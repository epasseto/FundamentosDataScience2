{
 "cells": [
  {
   "cell_type": "markdown",
   "metadata": {},
   "source": [
    "## Analyze A/B Test Results\n",
    "\n",
    "This project will assure you have mastered the subjects covered in the statistics lessons.  The hope is to have this project be as comprehensive of these topics as possible.  Good luck!\n",
    "\n",
    "## Table of Contents\n",
    "- [Introduction](#intro)\n",
    "- [Part I - Probability](#probability)\n",
    "- [Part II - A/B Test](#ab_test)\n",
    "- [Part III - Regression](#regression)\n",
    "\n",
    "\n",
    "<a id='intro'></a>\n",
    "### Introduction\n",
    "\n",
    "A/B tests are very commonly performed by data analysts and data scientists.  It is important that you get some practice working with the difficulties of these \n",
    "\n",
    "For this project, you will be working to understand the results of an A/B test run by an e-commerce website.  Your goal is to work through this notebook to help the company understand if they should implement the new page, keep the old page, or perhaps run the experiment longer to make their decision.\n",
    "\n",
    "**As you work through this notebook, follow along in the classroom and answer the corresponding quiz questions associated with each question.** The labels for each classroom concept are provided for each question.  This will assure you are on the right track as you work through the project, and you can feel more confident in your final submission meeting the criteria.  As a final check, assure you meet all the criteria on the [RUBRIC](https://review.udacity.com/#!/projects/37e27304-ad47-4eb0-a1ab-8c12f60e43d0/rubric).\n",
    "\n",
    "<a id='probability'></a>\n",
    "#### Part I - Probability\n",
    "\n",
    "To get started, let's import our libraries."
   ]
  },
  {
   "cell_type": "code",
   "execution_count": 1,
   "metadata": {},
   "outputs": [],
   "source": [
    "import pandas as pd\n",
    "import numpy as np\n",
    "import random\n",
    "import matplotlib.pyplot as plt\n",
    "%matplotlib inline\n",
    "#We are setting the seed to assure you get the same answers on quizzes as we set up\n",
    "random.seed(42)"
   ]
  },
  {
   "cell_type": "markdown",
   "metadata": {},
   "source": [
    "`1.` Now, read in the `ab_data.csv` data. Store it in `df`.  **Use your dataframe to answer the questions in Quiz 1 of the classroom.**\n",
    "\n",
    "a. Read in the dataset and take a look at the top few rows here:"
   ]
  },
  {
   "cell_type": "markdown",
   "metadata": {},
   "source": [
    "*Eu não vou mudar os nomes das colunas (apesar de ter ficado na tentação), pois parece um exercício guiado*"
   ]
  },
  {
   "cell_type": "code",
   "execution_count": 6,
   "metadata": {},
   "outputs": [
    {
     "ename": "FileNotFoundError",
     "evalue": "[Errno 2] File b'c:\\\\pyprog\\\\AnalyseABTestResults2\\x07b_data.csv' does not exist: b'c:\\\\pyprog\\\\AnalyseABTestResults2\\x07b_data.csv'",
     "output_type": "error",
     "traceback": [
      "\u001b[1;31m---------------------------------------------------------------------------\u001b[0m",
      "\u001b[1;31mFileNotFoundError\u001b[0m                         Traceback (most recent call last)",
      "\u001b[1;32m<ipython-input-6-01bc8c7df8eb>\u001b[0m in \u001b[0;36m<module>\u001b[1;34m\u001b[0m\n\u001b[1;32m----> 1\u001b[1;33m \u001b[0mdfdados\u001b[0m \u001b[1;33m=\u001b[0m \u001b[0mpd\u001b[0m\u001b[1;33m.\u001b[0m\u001b[0mread_csv\u001b[0m\u001b[1;33m(\u001b[0m\u001b[1;34m'c:\\pyprog\\AnalyseABTestResults2\\ab_data.csv'\u001b[0m\u001b[1;33m,\u001b[0m \u001b[0msep\u001b[0m\u001b[1;33m=\u001b[0m\u001b[1;34m','\u001b[0m\u001b[1;33m,\u001b[0m \u001b[0mencoding\u001b[0m\u001b[1;33m=\u001b[0m\u001b[1;34m'utf-8'\u001b[0m\u001b[1;33m,\u001b[0m \u001b[0mindex_col\u001b[0m\u001b[1;33m=\u001b[0m\u001b[1;34m'user_id'\u001b[0m\u001b[1;33m)\u001b[0m\u001b[1;33m\u001b[0m\u001b[1;33m\u001b[0m\u001b[0m\n\u001b[0m",
      "\u001b[1;32mC:\\ProgramData\\Anaconda3\\lib\\site-packages\\pandas\\io\\parsers.py\u001b[0m in \u001b[0;36mparser_f\u001b[1;34m(filepath_or_buffer, sep, delimiter, header, names, index_col, usecols, squeeze, prefix, mangle_dupe_cols, dtype, engine, converters, true_values, false_values, skipinitialspace, skiprows, skipfooter, nrows, na_values, keep_default_na, na_filter, verbose, skip_blank_lines, parse_dates, infer_datetime_format, keep_date_col, date_parser, dayfirst, iterator, chunksize, compression, thousands, decimal, lineterminator, quotechar, quoting, doublequote, escapechar, comment, encoding, dialect, tupleize_cols, error_bad_lines, warn_bad_lines, delim_whitespace, low_memory, memory_map, float_precision)\u001b[0m\n\u001b[0;32m    700\u001b[0m                     skip_blank_lines=skip_blank_lines)\n\u001b[0;32m    701\u001b[0m \u001b[1;33m\u001b[0m\u001b[0m\n\u001b[1;32m--> 702\u001b[1;33m         \u001b[1;32mreturn\u001b[0m \u001b[0m_read\u001b[0m\u001b[1;33m(\u001b[0m\u001b[0mfilepath_or_buffer\u001b[0m\u001b[1;33m,\u001b[0m \u001b[0mkwds\u001b[0m\u001b[1;33m)\u001b[0m\u001b[1;33m\u001b[0m\u001b[1;33m\u001b[0m\u001b[0m\n\u001b[0m\u001b[0;32m    703\u001b[0m \u001b[1;33m\u001b[0m\u001b[0m\n\u001b[0;32m    704\u001b[0m     \u001b[0mparser_f\u001b[0m\u001b[1;33m.\u001b[0m\u001b[0m__name__\u001b[0m \u001b[1;33m=\u001b[0m \u001b[0mname\u001b[0m\u001b[1;33m\u001b[0m\u001b[1;33m\u001b[0m\u001b[0m\n",
      "\u001b[1;32mC:\\ProgramData\\Anaconda3\\lib\\site-packages\\pandas\\io\\parsers.py\u001b[0m in \u001b[0;36m_read\u001b[1;34m(filepath_or_buffer, kwds)\u001b[0m\n\u001b[0;32m    427\u001b[0m \u001b[1;33m\u001b[0m\u001b[0m\n\u001b[0;32m    428\u001b[0m     \u001b[1;31m# Create the parser.\u001b[0m\u001b[1;33m\u001b[0m\u001b[1;33m\u001b[0m\u001b[1;33m\u001b[0m\u001b[0m\n\u001b[1;32m--> 429\u001b[1;33m     \u001b[0mparser\u001b[0m \u001b[1;33m=\u001b[0m \u001b[0mTextFileReader\u001b[0m\u001b[1;33m(\u001b[0m\u001b[0mfilepath_or_buffer\u001b[0m\u001b[1;33m,\u001b[0m \u001b[1;33m**\u001b[0m\u001b[0mkwds\u001b[0m\u001b[1;33m)\u001b[0m\u001b[1;33m\u001b[0m\u001b[1;33m\u001b[0m\u001b[0m\n\u001b[0m\u001b[0;32m    430\u001b[0m \u001b[1;33m\u001b[0m\u001b[0m\n\u001b[0;32m    431\u001b[0m     \u001b[1;32mif\u001b[0m \u001b[0mchunksize\u001b[0m \u001b[1;32mor\u001b[0m \u001b[0miterator\u001b[0m\u001b[1;33m:\u001b[0m\u001b[1;33m\u001b[0m\u001b[1;33m\u001b[0m\u001b[0m\n",
      "\u001b[1;32mC:\\ProgramData\\Anaconda3\\lib\\site-packages\\pandas\\io\\parsers.py\u001b[0m in \u001b[0;36m__init__\u001b[1;34m(self, f, engine, **kwds)\u001b[0m\n\u001b[0;32m    893\u001b[0m             \u001b[0mself\u001b[0m\u001b[1;33m.\u001b[0m\u001b[0moptions\u001b[0m\u001b[1;33m[\u001b[0m\u001b[1;34m'has_index_names'\u001b[0m\u001b[1;33m]\u001b[0m \u001b[1;33m=\u001b[0m \u001b[0mkwds\u001b[0m\u001b[1;33m[\u001b[0m\u001b[1;34m'has_index_names'\u001b[0m\u001b[1;33m]\u001b[0m\u001b[1;33m\u001b[0m\u001b[1;33m\u001b[0m\u001b[0m\n\u001b[0;32m    894\u001b[0m \u001b[1;33m\u001b[0m\u001b[0m\n\u001b[1;32m--> 895\u001b[1;33m         \u001b[0mself\u001b[0m\u001b[1;33m.\u001b[0m\u001b[0m_make_engine\u001b[0m\u001b[1;33m(\u001b[0m\u001b[0mself\u001b[0m\u001b[1;33m.\u001b[0m\u001b[0mengine\u001b[0m\u001b[1;33m)\u001b[0m\u001b[1;33m\u001b[0m\u001b[1;33m\u001b[0m\u001b[0m\n\u001b[0m\u001b[0;32m    896\u001b[0m \u001b[1;33m\u001b[0m\u001b[0m\n\u001b[0;32m    897\u001b[0m     \u001b[1;32mdef\u001b[0m \u001b[0mclose\u001b[0m\u001b[1;33m(\u001b[0m\u001b[0mself\u001b[0m\u001b[1;33m)\u001b[0m\u001b[1;33m:\u001b[0m\u001b[1;33m\u001b[0m\u001b[1;33m\u001b[0m\u001b[0m\n",
      "\u001b[1;32mC:\\ProgramData\\Anaconda3\\lib\\site-packages\\pandas\\io\\parsers.py\u001b[0m in \u001b[0;36m_make_engine\u001b[1;34m(self, engine)\u001b[0m\n\u001b[0;32m   1120\u001b[0m     \u001b[1;32mdef\u001b[0m \u001b[0m_make_engine\u001b[0m\u001b[1;33m(\u001b[0m\u001b[0mself\u001b[0m\u001b[1;33m,\u001b[0m \u001b[0mengine\u001b[0m\u001b[1;33m=\u001b[0m\u001b[1;34m'c'\u001b[0m\u001b[1;33m)\u001b[0m\u001b[1;33m:\u001b[0m\u001b[1;33m\u001b[0m\u001b[1;33m\u001b[0m\u001b[0m\n\u001b[0;32m   1121\u001b[0m         \u001b[1;32mif\u001b[0m \u001b[0mengine\u001b[0m \u001b[1;33m==\u001b[0m \u001b[1;34m'c'\u001b[0m\u001b[1;33m:\u001b[0m\u001b[1;33m\u001b[0m\u001b[1;33m\u001b[0m\u001b[0m\n\u001b[1;32m-> 1122\u001b[1;33m             \u001b[0mself\u001b[0m\u001b[1;33m.\u001b[0m\u001b[0m_engine\u001b[0m \u001b[1;33m=\u001b[0m \u001b[0mCParserWrapper\u001b[0m\u001b[1;33m(\u001b[0m\u001b[0mself\u001b[0m\u001b[1;33m.\u001b[0m\u001b[0mf\u001b[0m\u001b[1;33m,\u001b[0m \u001b[1;33m**\u001b[0m\u001b[0mself\u001b[0m\u001b[1;33m.\u001b[0m\u001b[0moptions\u001b[0m\u001b[1;33m)\u001b[0m\u001b[1;33m\u001b[0m\u001b[1;33m\u001b[0m\u001b[0m\n\u001b[0m\u001b[0;32m   1123\u001b[0m         \u001b[1;32melse\u001b[0m\u001b[1;33m:\u001b[0m\u001b[1;33m\u001b[0m\u001b[1;33m\u001b[0m\u001b[0m\n\u001b[0;32m   1124\u001b[0m             \u001b[1;32mif\u001b[0m \u001b[0mengine\u001b[0m \u001b[1;33m==\u001b[0m \u001b[1;34m'python'\u001b[0m\u001b[1;33m:\u001b[0m\u001b[1;33m\u001b[0m\u001b[1;33m\u001b[0m\u001b[0m\n",
      "\u001b[1;32mC:\\ProgramData\\Anaconda3\\lib\\site-packages\\pandas\\io\\parsers.py\u001b[0m in \u001b[0;36m__init__\u001b[1;34m(self, src, **kwds)\u001b[0m\n\u001b[0;32m   1851\u001b[0m         \u001b[0mkwds\u001b[0m\u001b[1;33m[\u001b[0m\u001b[1;34m'usecols'\u001b[0m\u001b[1;33m]\u001b[0m \u001b[1;33m=\u001b[0m \u001b[0mself\u001b[0m\u001b[1;33m.\u001b[0m\u001b[0musecols\u001b[0m\u001b[1;33m\u001b[0m\u001b[1;33m\u001b[0m\u001b[0m\n\u001b[0;32m   1852\u001b[0m \u001b[1;33m\u001b[0m\u001b[0m\n\u001b[1;32m-> 1853\u001b[1;33m         \u001b[0mself\u001b[0m\u001b[1;33m.\u001b[0m\u001b[0m_reader\u001b[0m \u001b[1;33m=\u001b[0m \u001b[0mparsers\u001b[0m\u001b[1;33m.\u001b[0m\u001b[0mTextReader\u001b[0m\u001b[1;33m(\u001b[0m\u001b[0msrc\u001b[0m\u001b[1;33m,\u001b[0m \u001b[1;33m**\u001b[0m\u001b[0mkwds\u001b[0m\u001b[1;33m)\u001b[0m\u001b[1;33m\u001b[0m\u001b[1;33m\u001b[0m\u001b[0m\n\u001b[0m\u001b[0;32m   1854\u001b[0m         \u001b[0mself\u001b[0m\u001b[1;33m.\u001b[0m\u001b[0munnamed_cols\u001b[0m \u001b[1;33m=\u001b[0m \u001b[0mself\u001b[0m\u001b[1;33m.\u001b[0m\u001b[0m_reader\u001b[0m\u001b[1;33m.\u001b[0m\u001b[0munnamed_cols\u001b[0m\u001b[1;33m\u001b[0m\u001b[1;33m\u001b[0m\u001b[0m\n\u001b[0;32m   1855\u001b[0m \u001b[1;33m\u001b[0m\u001b[0m\n",
      "\u001b[1;32mpandas\\_libs\\parsers.pyx\u001b[0m in \u001b[0;36mpandas._libs.parsers.TextReader.__cinit__\u001b[1;34m()\u001b[0m\n",
      "\u001b[1;32mpandas\\_libs\\parsers.pyx\u001b[0m in \u001b[0;36mpandas._libs.parsers.TextReader._setup_parser_source\u001b[1;34m()\u001b[0m\n",
      "\u001b[1;31mFileNotFoundError\u001b[0m: [Errno 2] File b'c:\\\\pyprog\\\\AnalyseABTestResults2\\x07b_data.csv' does not exist: b'c:\\\\pyprog\\\\AnalyseABTestResults2\\x07b_data.csv'"
     ]
    }
   ],
   "source": [
    "dfdados = pd.read_csv('c:\\pyprog\\AnalyseABTestResults2\\ab_data.csv', sep=',', encoding='utf-8', index_col='user_id')"
   ]
  },
  {
   "cell_type": "markdown",
   "metadata": {},
   "source": [
    "*Interpretando o que temos aqui. É um teste de duas páginas de Webpage, como aquelas da empresa **Audacity**. Então usuários encontram a empresa num mecanismo de busca e são direcionados a uma página oferecendo cursos. O detalhe é que a busca tem um **forking** e ela conduz alguns usuários para a página antiga (**grupo de controle**) e outros para a página novo (**grupo de tratamento**. O usuário lê algumas coisas e se se interessar, irá clicar numa espécie de botão (\"adquirir o produto\", o que é chamado de **converted**).*\n",
    "\n",
    "O dataset grava as seguintes informações:\n",
    "\n",
    "- id do usuário (para saber se não é a mesma pessoa que está entrando duas vezes - pode ter havido um erro no carregamento da página, etc..) - eu quero trabalhar com IDs **únicos**\n",
    "\n",
    "- timestamp (um formato de data e hora do acesso)\n",
    "\n",
    "- grupo (**controle** ou **tratamento**)\n",
    "\n",
    "- página acessada (**antiga** ou **nova**) - informação redundante, pois a do grupo deveria suprir isso!\n",
    "\n",
    "- convertido (**zero** ou **um**) - a pessoa se **converteu**, ou seja, comprou o produto?\n",
    "\n",
    "Uma H0 típica de um caso desses seria:\n",
    "\n",
    "- a taxa de conversão da página **antiga** é igual ou maior do que a taxa de conversão da página **nova**\n",
    "\n",
    "Uma H1 típica:\n",
    "\n",
    "- a taxa de conversão da página **nova** é maior do que a taxa de conversão da página **antiga**"
   ]
  },
  {
   "cell_type": "code",
   "execution_count": 134,
   "metadata": {},
   "outputs": [
    {
     "data": {
      "text/html": [
       "<div>\n",
       "<style scoped>\n",
       "    .dataframe tbody tr th:only-of-type {\n",
       "        vertical-align: middle;\n",
       "    }\n",
       "\n",
       "    .dataframe tbody tr th {\n",
       "        vertical-align: top;\n",
       "    }\n",
       "\n",
       "    .dataframe thead th {\n",
       "        text-align: right;\n",
       "    }\n",
       "</style>\n",
       "<table border=\"1\" class=\"dataframe\">\n",
       "  <thead>\n",
       "    <tr style=\"text-align: right;\">\n",
       "      <th></th>\n",
       "      <th>timestamp</th>\n",
       "      <th>group</th>\n",
       "      <th>landing_page</th>\n",
       "      <th>converted</th>\n",
       "    </tr>\n",
       "    <tr>\n",
       "      <th>user_id</th>\n",
       "      <th></th>\n",
       "      <th></th>\n",
       "      <th></th>\n",
       "      <th></th>\n",
       "    </tr>\n",
       "  </thead>\n",
       "  <tbody>\n",
       "    <tr>\n",
       "      <th>851104</th>\n",
       "      <td>2017-01-21 22:11:48.556739</td>\n",
       "      <td>control</td>\n",
       "      <td>old_page</td>\n",
       "      <td>0</td>\n",
       "    </tr>\n",
       "    <tr>\n",
       "      <th>804228</th>\n",
       "      <td>2017-01-12 08:01:45.159739</td>\n",
       "      <td>control</td>\n",
       "      <td>old_page</td>\n",
       "      <td>0</td>\n",
       "    </tr>\n",
       "    <tr>\n",
       "      <th>661590</th>\n",
       "      <td>2017-01-11 16:55:06.154213</td>\n",
       "      <td>treatment</td>\n",
       "      <td>new_page</td>\n",
       "      <td>0</td>\n",
       "    </tr>\n",
       "    <tr>\n",
       "      <th>853541</th>\n",
       "      <td>2017-01-08 18:28:03.143765</td>\n",
       "      <td>treatment</td>\n",
       "      <td>new_page</td>\n",
       "      <td>0</td>\n",
       "    </tr>\n",
       "    <tr>\n",
       "      <th>864975</th>\n",
       "      <td>2017-01-21 01:52:26.210827</td>\n",
       "      <td>control</td>\n",
       "      <td>old_page</td>\n",
       "      <td>1</td>\n",
       "    </tr>\n",
       "  </tbody>\n",
       "</table>\n",
       "</div>"
      ],
      "text/plain": [
       "                          timestamp      group landing_page  converted\n",
       "user_id                                                               \n",
       "851104   2017-01-21 22:11:48.556739    control     old_page          0\n",
       "804228   2017-01-12 08:01:45.159739    control     old_page          0\n",
       "661590   2017-01-11 16:55:06.154213  treatment     new_page          0\n",
       "853541   2017-01-08 18:28:03.143765  treatment     new_page          0\n",
       "864975   2017-01-21 01:52:26.210827    control     old_page          1"
      ]
     },
     "execution_count": 134,
     "metadata": {},
     "output_type": "execute_result"
    }
   ],
   "source": [
    "dfdados.head(5)"
   ]
  },
  {
   "cell_type": "markdown",
   "metadata": {},
   "source": [
    "b. Use the below cell to find the number of rows in the dataset."
   ]
  },
  {
   "cell_type": "markdown",
   "metadata": {},
   "source": [
    "*Costumeiramente eu faço isso:*"
   ]
  },
  {
   "cell_type": "code",
   "execution_count": 135,
   "metadata": {
    "scrolled": false
   },
   "outputs": [
    {
     "name": "stdout",
     "output_type": "stream",
     "text": [
      "<class 'pandas.core.frame.DataFrame'>\n",
      "Int64Index: 294478 entries, 851104 to 715931\n",
      "Data columns (total 4 columns):\n",
      "timestamp       294478 non-null object\n",
      "group           294478 non-null object\n",
      "landing_page    294478 non-null object\n",
      "converted       294478 non-null int64\n",
      "dtypes: int64(1), object(3)\n",
      "memory usage: 11.2+ MB\n"
     ]
    }
   ],
   "source": [
    "dfdados.info()"
   ]
  },
  {
   "cell_type": "markdown",
   "metadata": {},
   "source": [
    "*Mais elegante...*"
   ]
  },
  {
   "cell_type": "code",
   "execution_count": 139,
   "metadata": {},
   "outputs": [
    {
     "name": "stdout",
     "output_type": "stream",
     "text": [
      "São 294478 linhas no dataset\n"
     ]
    }
   ],
   "source": [
    "print ('São {} linhas no dataset'.format(dfdados.shape[0]))"
   ]
  },
  {
   "cell_type": "markdown",
   "metadata": {},
   "source": [
    "c. The number of unique users in the dataset.\n",
    "\n",
    "*Nada como Stack Overflow - eles recomendam fazer literalmente algumas operações, como dropna=True (isso pode me fazer evitar erros no futuro!)*\n",
    "\n",
    "*Aparentemente alguns usuários visitaram o site várias vezes*"
   ]
  },
  {
   "cell_type": "code",
   "execution_count": 4,
   "metadata": {},
   "outputs": [
    {
     "name": "stdout",
     "output_type": "stream",
     "text": [
      "São 290584 usuários singulares\n"
     ]
    }
   ],
   "source": [
    "ususing = dfdados.index.nunique() #dropna=True aqui realmente não existem NaNs\n",
    "\n",
    "print ('São {} usuários singulares'.format(ususing))"
   ]
  },
  {
   "cell_type": "markdown",
   "metadata": {
    "collapsed": true
   },
   "source": [
    "### 2/5\n",
    "\n",
    "d. The proportion of users converted."
   ]
  },
  {
   "cell_type": "markdown",
   "metadata": {},
   "source": [
    "Não ficou **perfeito**:\n",
    "    \n",
    "- eu tenho alguns usuários repetidos, o cara entrou uma, duas vezes e acabou comprando ou não... na terceira entrada!\n",
    "\n",
    "*Por que estou insistindo neste pequeno problema deste dataset? Por uma razão simples, se seguirmos a **ortodoxia** da análise Estatística, precisaríamos **eliminar** as diversas entradas de um usuário singular! Por que? Por uma razão muito simples, uma das premissas da inferência é de que os eventos devem ser **independentes**!*\n",
    "\n",
    "*Depois dá para verificar que este pequeno desvio é passável, pois foi realmente um pequeno número de usuários que fizeram mais de um acesso (e possivelmente à página **nova** e **antiga**). Mas funciona assim: se eu sou um usuário **singular** e muito bem, entro numa máquina... \"hmmm, vi, não animei (10% convencido)\"... entro de novo... \"hmmm, sei, ainda não (30% convencido)\"... e entro a terceira vez e faço a compra (100% convencido)! Sabe o que aconteceu? Isso não é como jogar uma moeda **justa**, pois neste caso, dado um usuário, a entrada anterior **condiciona** a posterior! (pois ele possui **memória**)*\n",
    "\n",
    "*Tudo bem, este é apenas um exercício... mas se formos tratar dados de verdade, temos que atentar aos pequenos detalhes... e que ao final podem ser **fatais**!*\n",
    "\n",
    "*Mais um comentário, como faríamos em **Física**? Pegamos sempre o **último** resultado para um indivíduo... Dizemos que ele colapsou em $n(t)$... mas isso é mera curiosidade...*"
   ]
  },
  {
   "cell_type": "code",
   "execution_count": 163,
   "metadata": {},
   "outputs": [
    {
     "name": "stdout",
     "output_type": "stream",
     "text": [
      "Aderiram em média 0.11965919355605512 usuários\n"
     ]
    }
   ],
   "source": [
    "convertidos = dfdados.converted\n",
    "#convertidos\n",
    "print('Aderiram em média {} usuários'.format(convertidos.mean()))"
   ]
  },
  {
   "cell_type": "markdown",
   "metadata": {},
   "source": [
    "*Nada como praticar jeitos diferentes... de grafia... (já me embaralhei demais lendo códigos de terceiros e pensando que eram coisas diferentes!)*\n",
    "\n",
    "Eu gosto mais de escrever o código o mais **explícito** possível. Me confundo menos:\n",
    "\n",
    "- resumo da ópera, a diferença neste caso ocorreu na casa **centesimal** da porcentagem (o que seria desprezível)\n",
    "\n",
    "- no entando, o de baixo deve ser considerado o resultado **real** (o que usamos está ligeiramente distorcido pelas diversas entradas de um mesmo usuário)"
   ]
  },
  {
   "cell_type": "code",
   "execution_count": 180,
   "metadata": {},
   "outputs": [
    {
     "name": "stdout",
     "output_type": "stream",
     "text": [
      "Aderiram em média 0.1195695564793657 usuários (resultado mais preciso)\n"
     ]
    }
   ],
   "source": [
    "compras = dfdados['converted'].groupby(dfdados.index).first() # index.duplicated()\n",
    "#df3 = df3[~df3.index.duplicated(keep='first')]\n",
    "len(compras)\n",
    "print('Aderiram em média {} usuários (resultado mais preciso)'.format(compras.mean()))"
   ]
  },
  {
   "cell_type": "markdown",
   "metadata": {
    "collapsed": true
   },
   "source": [
    "#### parei aqui\n",
    "\n",
    "e. The number of times the `new_page` and `treatment` don't line up."
   ]
  },
  {
   "cell_type": "code",
   "execution_count": 25,
   "metadata": {},
   "outputs": [
    {
     "name": "stdout",
     "output_type": "stream",
     "text": [
      "                          timestamp      group landing_page  converted\n",
      "user_id                                                               \n",
      "767017   2017-01-12 22:58:14.991443    control     new_page          0\n",
      "733976   2017-01-11 15:11:16.407599    control     new_page          0\n",
      "857184   2017-01-20 07:34:59.832626  treatment     old_page          0\n",
      "686623   2017-01-09 14:26:40.734775  treatment     old_page          0\n"
     ]
    },
    {
     "data": {
      "text/plain": [
       "3893"
      ]
     },
     "execution_count": 25,
     "metadata": {},
     "output_type": "execute_result"
    }
   ],
   "source": [
    "a = dfdados[(dfdados['group'] == 'treatment') != (dfdados['landing_page'] == 'new_page')]\n",
    "print(a.head(4))\n",
    "a.shape[0]"
   ]
  },
  {
   "cell_type": "markdown",
   "metadata": {},
   "source": [
    "f. Do any of the rows have missing values?"
   ]
  },
  {
   "cell_type": "markdown",
   "metadata": {},
   "source": [
    "`2.` For the rows where **treatment** is not aligned with **new_page** or **control** is not aligned with **old_page**, we cannot be sure if this row truly received the new or old page.  Use **Quiz 2** in the classroom to provide how we should handle these rows.  \n",
    "\n",
    "a. Now use the answer to the quiz to create a new dataset that meets the specifications from the quiz.  Store your new dataframe in **df2**."
   ]
  },
  {
   "cell_type": "markdown",
   "metadata": {},
   "source": [
    "*Obs: já fiz isso lá em cima... e também no projeto anterior... e aprendi que isso é bastante enganador! Diria: **aparentemente** está tudo OK!, sem valores **NaN** pelo menos...*"
   ]
  },
  {
   "cell_type": "code",
   "execution_count": 26,
   "metadata": {},
   "outputs": [
    {
     "name": "stdout",
     "output_type": "stream",
     "text": [
      "<class 'pandas.core.frame.DataFrame'>\n",
      "Int64Index: 294478 entries, 851104 to 715931\n",
      "Data columns (total 4 columns):\n",
      "timestamp       294478 non-null object\n",
      "group           294478 non-null object\n",
      "landing_page    294478 non-null object\n",
      "converted       294478 non-null int64\n",
      "dtypes: int64(1), object(3)\n",
      "memory usage: 11.2+ MB\n"
     ]
    }
   ],
   "source": [
    "dfdados.info()"
   ]
  },
  {
   "cell_type": "markdown",
   "metadata": {},
   "source": [
    "*Nesses casos, aprendi que usar o método **sample()** é melhor do que **head()**... posso rodar algumas vezes e pegar amostras diferentes...* \n",
    "\n",
    "*De onde eu tirei essa filtragem tão certinha? Foi só pular duas questões para frente e fazer minha adaptação!*"
   ]
  },
  {
   "cell_type": "code",
   "execution_count": 59,
   "metadata": {},
   "outputs": [
    {
     "data": {
      "text/html": [
       "<div>\n",
       "<style scoped>\n",
       "    .dataframe tbody tr th:only-of-type {\n",
       "        vertical-align: middle;\n",
       "    }\n",
       "\n",
       "    .dataframe tbody tr th {\n",
       "        vertical-align: top;\n",
       "    }\n",
       "\n",
       "    .dataframe thead th {\n",
       "        text-align: right;\n",
       "    }\n",
       "</style>\n",
       "<table border=\"1\" class=\"dataframe\">\n",
       "  <thead>\n",
       "    <tr style=\"text-align: right;\">\n",
       "      <th></th>\n",
       "      <th>timestamp</th>\n",
       "      <th>group</th>\n",
       "      <th>landing_page</th>\n",
       "      <th>converted</th>\n",
       "    </tr>\n",
       "    <tr>\n",
       "      <th>user_id</th>\n",
       "      <th></th>\n",
       "      <th></th>\n",
       "      <th></th>\n",
       "      <th></th>\n",
       "    </tr>\n",
       "  </thead>\n",
       "  <tbody>\n",
       "    <tr>\n",
       "      <th>682897</th>\n",
       "      <td>2017-01-10 08:03:39.973573</td>\n",
       "      <td>treatment</td>\n",
       "      <td>new_page</td>\n",
       "      <td>0</td>\n",
       "    </tr>\n",
       "    <tr>\n",
       "      <th>926722</th>\n",
       "      <td>2017-01-15 08:23:47.791763</td>\n",
       "      <td>treatment</td>\n",
       "      <td>new_page</td>\n",
       "      <td>0</td>\n",
       "    </tr>\n",
       "    <tr>\n",
       "      <th>725644</th>\n",
       "      <td>2017-01-20 08:07:04.557151</td>\n",
       "      <td>control</td>\n",
       "      <td>old_page</td>\n",
       "      <td>0</td>\n",
       "    </tr>\n",
       "    <tr>\n",
       "      <th>789025</th>\n",
       "      <td>2017-01-18 00:47:13.708661</td>\n",
       "      <td>control</td>\n",
       "      <td>old_page</td>\n",
       "      <td>0</td>\n",
       "    </tr>\n",
       "    <tr>\n",
       "      <th>935565</th>\n",
       "      <td>2017-01-23 22:48:52.356018</td>\n",
       "      <td>control</td>\n",
       "      <td>old_page</td>\n",
       "      <td>0</td>\n",
       "    </tr>\n",
       "    <tr>\n",
       "      <th>805944</th>\n",
       "      <td>2017-01-04 04:12:08.907278</td>\n",
       "      <td>control</td>\n",
       "      <td>old_page</td>\n",
       "      <td>0</td>\n",
       "    </tr>\n",
       "    <tr>\n",
       "      <th>747109</th>\n",
       "      <td>2017-01-11 17:05:44.309915</td>\n",
       "      <td>control</td>\n",
       "      <td>old_page</td>\n",
       "      <td>0</td>\n",
       "    </tr>\n",
       "    <tr>\n",
       "      <th>739126</th>\n",
       "      <td>2017-01-02 21:14:13.117820</td>\n",
       "      <td>treatment</td>\n",
       "      <td>new_page</td>\n",
       "      <td>0</td>\n",
       "    </tr>\n",
       "    <tr>\n",
       "      <th>791402</th>\n",
       "      <td>2017-01-18 08:18:04.735452</td>\n",
       "      <td>control</td>\n",
       "      <td>old_page</td>\n",
       "      <td>0</td>\n",
       "    </tr>\n",
       "    <tr>\n",
       "      <th>728843</th>\n",
       "      <td>2017-01-14 20:27:23.181146</td>\n",
       "      <td>control</td>\n",
       "      <td>old_page</td>\n",
       "      <td>0</td>\n",
       "    </tr>\n",
       "  </tbody>\n",
       "</table>\n",
       "</div>"
      ],
      "text/plain": [
       "                          timestamp      group landing_page  converted\n",
       "user_id                                                               \n",
       "682897   2017-01-10 08:03:39.973573  treatment     new_page          0\n",
       "926722   2017-01-15 08:23:47.791763  treatment     new_page          0\n",
       "725644   2017-01-20 08:07:04.557151    control     old_page          0\n",
       "789025   2017-01-18 00:47:13.708661    control     old_page          0\n",
       "935565   2017-01-23 22:48:52.356018    control     old_page          0\n",
       "805944   2017-01-04 04:12:08.907278    control     old_page          0\n",
       "747109   2017-01-11 17:05:44.309915    control     old_page          0\n",
       "739126   2017-01-02 21:14:13.117820  treatment     new_page          0\n",
       "791402   2017-01-18 08:18:04.735452    control     old_page          0\n",
       "728843   2017-01-14 20:27:23.181146    control     old_page          0"
      ]
     },
     "execution_count": 59,
     "metadata": {},
     "output_type": "execute_result"
    }
   ],
   "source": [
    "#dfaux1 = dfdados[(dfdados['group'] == 'treatment')]\n",
    "#print(dfaux1.sample(4))\n",
    "#dfaux2 = dfdados[(dfdados['landing_page'] == 'new_page')]\n",
    "#print(dfaux1.sample(4))\n",
    "\n",
    "df2 = dfdados[(dfdados['group'] == 'treatment') == (dfdados['landing_page'] == 'new_page')]\n",
    "df2.sample(10)"
   ]
  },
  {
   "cell_type": "markdown",
   "metadata": {},
   "source": [
    "Ou seja, estão todos os valores **alinhados**:\n",
    "    \n",
    "*Eu vi um vídeo sobre **quarta normal** no Youtube e pelo que entendi, seria exatamente esta consistência, dados de uma coluna que dependem de valores de dados de outra coluna, num mesmo dataset.*"
   ]
  },
  {
   "cell_type": "code",
   "execution_count": 60,
   "metadata": {},
   "outputs": [
    {
     "data": {
      "text/plain": [
       "0"
      ]
     },
     "execution_count": 60,
     "metadata": {},
     "output_type": "execute_result"
    }
   ],
   "source": [
    "# Double Check all of the correct rows were removed - this should be 0\n",
    "df2[((df2['group'] == 'treatment') == (df2['landing_page'] == 'new_page')) == False].shape[0]"
   ]
  },
  {
   "cell_type": "markdown",
   "metadata": {},
   "source": [
    "`3.` Use **df2** and the cells below to answer questions for **Quiz3** in the classroom."
   ]
  },
  {
   "cell_type": "markdown",
   "metadata": {},
   "source": [
    "a. How many unique **user_id**s are in **df2**?"
   ]
  },
  {
   "cell_type": "markdown",
   "metadata": {},
   "source": [
    "*Minha coluna user_id foi definida como meu índice!*\n",
    "\n",
    "*Quando eu fiz isso, não atentei que poderia se tratar de um dataset problemático, em que uma chave pudesse aparecer mais de uma vez... de qualquer maneira isso é um **defeito** e precisa ser limpo!*"
   ]
  },
  {
   "cell_type": "code",
   "execution_count": 63,
   "metadata": {},
   "outputs": [
    {
     "name": "stdout",
     "output_type": "stream",
     "text": [
      "Existem 290584 IDs de usuários únicos\n"
     ]
    }
   ],
   "source": [
    "print('Existem {} IDs de usuários únicos'.format(df2.index.nunique()))"
   ]
  },
  {
   "cell_type": "markdown",
   "metadata": {
    "collapsed": true
   },
   "source": [
    "b. There is one **user_id** repeated in **df2**.  What is it?"
   ]
  },
  {
   "cell_type": "markdown",
   "metadata": {},
   "source": [
    "*O valor emergiu como o primeiro na contagem!*"
   ]
  },
  {
   "cell_type": "code",
   "execution_count": 62,
   "metadata": {},
   "outputs": [
    {
     "name": "stdout",
     "output_type": "stream",
     "text": [
      "O ID repetido : 773192\n"
     ]
    }
   ],
   "source": [
    "contagem = df2.index.value_counts(sort=True)\n",
    "#print(contagem)\n",
    "IDrepetido = contagem.index[0]\n",
    "\n",
    "print ('O ID repetido :', IDrepetido)\n",
    "\n",
    "#for indice,dado in contagem:\n",
    "#    if dado > 1:\n",
    "#        print(indice)"
   ]
  },
  {
   "cell_type": "markdown",
   "metadata": {},
   "source": [
    "### 3/5\n",
    "\n",
    "c. What is the row information for the repeat **user_id**?"
   ]
  },
  {
   "cell_type": "markdown",
   "metadata": {},
   "source": [
    "*Invocando uma variável em filtro com @ [aqui](https://stackoverflow.com/questions/23974664/unable-to-query-a-local-variable-in-pandas-0-14-0)*"
   ]
  },
  {
   "cell_type": "code",
   "execution_count": 63,
   "metadata": {},
   "outputs": [
    {
     "data": {
      "text/html": [
       "<div>\n",
       "<style scoped>\n",
       "    .dataframe tbody tr th:only-of-type {\n",
       "        vertical-align: middle;\n",
       "    }\n",
       "\n",
       "    .dataframe tbody tr th {\n",
       "        vertical-align: top;\n",
       "    }\n",
       "\n",
       "    .dataframe thead th {\n",
       "        text-align: right;\n",
       "    }\n",
       "</style>\n",
       "<table border=\"1\" class=\"dataframe\">\n",
       "  <thead>\n",
       "    <tr style=\"text-align: right;\">\n",
       "      <th></th>\n",
       "      <th>timestamp</th>\n",
       "      <th>group</th>\n",
       "      <th>landing_page</th>\n",
       "      <th>converted</th>\n",
       "    </tr>\n",
       "    <tr>\n",
       "      <th>user_id</th>\n",
       "      <th></th>\n",
       "      <th></th>\n",
       "      <th></th>\n",
       "      <th></th>\n",
       "    </tr>\n",
       "  </thead>\n",
       "  <tbody>\n",
       "    <tr>\n",
       "      <th>773192</th>\n",
       "      <td>2017-01-09 05:37:58.781806</td>\n",
       "      <td>treatment</td>\n",
       "      <td>new_page</td>\n",
       "      <td>0</td>\n",
       "    </tr>\n",
       "    <tr>\n",
       "      <th>773192</th>\n",
       "      <td>2017-01-14 02:55:59.590927</td>\n",
       "      <td>treatment</td>\n",
       "      <td>new_page</td>\n",
       "      <td>0</td>\n",
       "    </tr>\n",
       "  </tbody>\n",
       "</table>\n",
       "</div>"
      ],
      "text/plain": [
       "                          timestamp      group landing_page  converted\n",
       "user_id                                                               \n",
       "773192   2017-01-09 05:37:58.781806  treatment     new_page          0\n",
       "773192   2017-01-14 02:55:59.590927  treatment     new_page          0"
      ]
     },
     "execution_count": 63,
     "metadata": {},
     "output_type": "execute_result"
    }
   ],
   "source": [
    "#print (IDrepetido)\n",
    "\n",
    "df2.query('index == @IDrepetido')"
   ]
  },
  {
   "cell_type": "markdown",
   "metadata": {},
   "source": [
    "d. Remove **one** of the rows with a duplicate **user_id**, but keep your dataframe as **df2**."
   ]
  },
  {
   "cell_type": "markdown",
   "metadata": {},
   "source": [
    "*Por que manter a última? Repare que as datas foram diferentes, talvez o cara tenha ido e **retornado**! Me parece que a data mais **atual** seria a melhor!*\n",
    "\n",
    "*Embora isso não tenha adiantado muito. O sujeito visitou duas vezes a página mas não se \"converteu\", comprando nosso produto...*\n",
    "\n",
    "*Me enrolei um pouco, mas encontrei boas dicas [aqui](https://stackoverflow.com/questions/13035764/remove-rows-with-duplicate-indices-pandas-dataframe-and-timeseries)*\n",
    "\n",
    "*O operador lógico de **inversão ~** indica que eu quero todos, ao contrário, do registro duplicado. Eu copiei num banco auxiliar para ter que evitar refazer as tarefas anteriores há cada vez que fazia um teste*\n",
    "\n",
    "*Consegui este texto explicativo no Slack do curso: It is a unary operator (taking a single argument) that is borrowed from C, where all data types are just different ways of interpreting bytes. It is the \"invert\" or \"complement\" operation, in which all the bits of the input data are reversed.*"
   ]
  },
  {
   "cell_type": "code",
   "execution_count": 34,
   "metadata": {
    "scrolled": true
   },
   "outputs": [
    {
     "data": {
      "text/html": [
       "<div>\n",
       "<style scoped>\n",
       "    .dataframe tbody tr th:only-of-type {\n",
       "        vertical-align: middle;\n",
       "    }\n",
       "\n",
       "    .dataframe tbody tr th {\n",
       "        vertical-align: top;\n",
       "    }\n",
       "\n",
       "    .dataframe thead th {\n",
       "        text-align: right;\n",
       "    }\n",
       "</style>\n",
       "<table border=\"1\" class=\"dataframe\">\n",
       "  <thead>\n",
       "    <tr style=\"text-align: right;\">\n",
       "      <th></th>\n",
       "      <th>timestamp</th>\n",
       "      <th>group</th>\n",
       "      <th>landing_page</th>\n",
       "      <th>converted</th>\n",
       "    </tr>\n",
       "    <tr>\n",
       "      <th>user_id</th>\n",
       "      <th></th>\n",
       "      <th></th>\n",
       "      <th></th>\n",
       "      <th></th>\n",
       "    </tr>\n",
       "  </thead>\n",
       "  <tbody>\n",
       "    <tr>\n",
       "      <th>773192</th>\n",
       "      <td>2017-01-14 02:55:59.590927</td>\n",
       "      <td>treatment</td>\n",
       "      <td>new_page</td>\n",
       "      <td>0</td>\n",
       "    </tr>\n",
       "  </tbody>\n",
       "</table>\n",
       "</div>"
      ],
      "text/plain": [
       "                          timestamp      group landing_page  converted\n",
       "user_id                                                               \n",
       "773192   2017-01-14 02:55:59.590927  treatment     new_page          0"
      ]
     },
     "execution_count": 34,
     "metadata": {},
     "output_type": "execute_result"
    }
   ],
   "source": [
    "df3 = df2[~df2.index.duplicated(keep='last')]\n",
    "\n",
    "#df3 = df3[~df3.index.duplicated(keep='first')]\n",
    "#df2[df2.index.duplicated(keep= 'last'), inplace=True]\n",
    "#df2.drop_duplicates(subset='index', keep='last', inplace=True)\n",
    "#df2 = df2[df2.index.duplicated(keep='first')]\n",
    "\n",
    "df3.query('index == 773192') #teste no bandido"
   ]
  },
  {
   "cell_type": "markdown",
   "metadata": {},
   "source": [
    "*Copiando de volta ao lugar certo:*"
   ]
  },
  {
   "cell_type": "code",
   "execution_count": 35,
   "metadata": {},
   "outputs": [],
   "source": [
    "df2 = df3"
   ]
  },
  {
   "cell_type": "markdown",
   "metadata": {},
   "source": [
    "*Para que este código com if? Se eu quiser mais tarde fazer uma função a partir disso, eu mudo o \"Passou\" para um*\n",
    "\n",
    "    return True"
   ]
  },
  {
   "cell_type": "code",
   "execution_count": 13,
   "metadata": {
    "scrolled": true
   },
   "outputs": [
    {
     "name": "stdout",
     "output_type": "stream",
     "text": [
      "Verificando duplicatas : 0\n",
      "Passou\n"
     ]
    }
   ],
   "source": [
    "duplicatas = df3.index.value_counts()\n",
    "#duplicatas\n",
    "#print(duplicatas)\n",
    "#print(len(duplicatas))\n",
    "\n",
    "print('Verificando duplicatas :', len(duplicatas[duplicatas > 1]))\n",
    "\n",
    "if len(duplicatas[duplicatas > 1]) == 0:\n",
    "    print('Passou')"
   ]
  },
  {
   "cell_type": "markdown",
   "metadata": {},
   "source": [
    "#### Parei aqui"
   ]
  },
  {
   "cell_type": "markdown",
   "metadata": {},
   "source": [
    "`4.` Use **df2** in the below cells to answer the quiz questions related to **Quiz 4** in the classroom.\n",
    "\n",
    "a. What is the probability of an individual converting regardless of the page they receive?"
   ]
  },
  {
   "cell_type": "code",
   "execution_count": 65,
   "metadata": {},
   "outputs": [
    {
     "name": "stdout",
     "output_type": "stream",
     "text": [
      "Média de conversões : 0.11959667567149027\n"
     ]
    }
   ],
   "source": [
    "#df2.head(4)\n",
    "print ('Média de conversões :', df2.converted.mean())"
   ]
  },
  {
   "cell_type": "markdown",
   "metadata": {},
   "source": [
    "b. Given that an individual was in the `control` group, what is the probability they converted?"
   ]
  },
  {
   "cell_type": "markdown",
   "metadata": {},
   "source": [
    "*Sim, é um pouco mais alto... e me parece bastante **pouca** a diferença... mas na direção **errada**!* "
   ]
  },
  {
   "cell_type": "code",
   "execution_count": 76,
   "metadata": {},
   "outputs": [
    {
     "name": "stdout",
     "output_type": "stream",
     "text": [
      "                          timestamp    group landing_page  converted\n",
      "user_id                                                             \n",
      "851104   2017-01-21 22:11:48.556739  control     old_page          0\n",
      "804228   2017-01-12 08:01:45.159739  control     old_page          0\n",
      "864975   2017-01-21 01:52:26.210827  control     old_page          1\n",
      "936923   2017-01-10 15:20:49.083499  control     old_page          0\n",
      "Média de conversões no Controle : 0.1203863045004612\n"
     ]
    }
   ],
   "source": [
    "dfcontrole = df2.query('group == \"control\"')\n",
    "print(dfcontrole.head(4))\n",
    "print ('Média de conversões no Controle :', dfcontrole.converted.mean())"
   ]
  },
  {
   "cell_type": "markdown",
   "metadata": {},
   "source": [
    "c. Given that an individual was in the `treatment` group, what is the probability they converted?"
   ]
  },
  {
   "cell_type": "markdown",
   "metadata": {},
   "source": [
    "*Desculpe-me, sou como Lázaro... é necessário **ver** para **crer**...*"
   ]
  },
  {
   "cell_type": "code",
   "execution_count": 64,
   "metadata": {},
   "outputs": [
    {
     "name": "stdout",
     "output_type": "stream",
     "text": [
      "                          timestamp      group landing_page  converted\n",
      "user_id                                                               \n",
      "661590   2017-01-11 16:55:06.154213  treatment     new_page          0\n",
      "853541   2017-01-08 18:28:03.143765  treatment     new_page          0\n",
      "679687   2017-01-19 03:26:46.940749  treatment     new_page          1\n",
      "817355   2017-01-04 17:58:08.979471  treatment     new_page          1\n",
      "Média de conversões no Tratamento : 0.11880724790277405\n"
     ]
    }
   ],
   "source": [
    "dftratamento = df2.query('group == \"treatment\"')\n",
    "print(dftratamento.head(4))\n",
    "print ('Média de conversões no Tratamento :', dftratamento.converted.mean())"
   ]
  },
  {
   "cell_type": "markdown",
   "metadata": {},
   "source": [
    "d. What is the probability that an individual received the new page?"
   ]
  },
  {
   "cell_type": "markdown",
   "metadata": {},
   "source": [
    "*Foi tipo: **metade-metade**...*"
   ]
  },
  {
   "cell_type": "code",
   "execution_count": 80,
   "metadata": {},
   "outputs": [
    {
     "name": "stdout",
     "output_type": "stream",
     "text": [
      "Probabilidade de ser direcionado à páguna nova : 0.5000636646764286\n"
     ]
    }
   ],
   "source": [
    "print ('Probabilidade de ser direcionado à páguna nova :', (df2.landing_page == \"new_page\").mean())"
   ]
  },
  {
   "cell_type": "markdown",
   "metadata": {},
   "source": [
    "e. Consider your results from a. through d. above, and explain below whether you think there is sufficient evidence to say that the new treatment page leads to more conversions."
   ]
  },
  {
   "cell_type": "markdown",
   "metadata": {},
   "source": [
    "**Para mim parece não haver forte indicativo (indícios) de que a página nova realmente produziu mais conversões do que a antiga... os resultados me parecem próximos demais...**"
   ]
  },
  {
   "cell_type": "markdown",
   "metadata": {},
   "source": [
    "<a id='ab_test'></a>\n",
    "### Part II - A/B Test\n",
    "\n",
    "Notice that because of the time stamp associated with each event, you could technically run a hypothesis test continuously as each observation was observed.  \n",
    "\n",
    "However, then the hard question is do you stop as soon as one page is considered significantly better than another or does it need to happen consistently for a certain amount of time?  How long do you run to render a decision that neither page is better than another?  \n",
    "\n",
    "These questions are the difficult parts associated with A/B tests in general.  \n",
    "\n",
    "\n",
    "`1.` For now, consider you need to make the decision just based on all the data provided.  If you want to assume that the old page is better unless the new page proves to be definitely better at a Type I error rate of 5%, what should your null and alternative hypotheses be?  You can state your hypothesis in terms of words or in terms of **$p_{old}$** and **$p_{new}$**, which are the converted rates for the old and new pages."
   ]
  },
  {
   "cell_type": "markdown",
   "metadata": {},
   "source": [
    "$Hipótese_{zero} \\rightarrow H_0: p_{new} - p_{old} \\leq 0$ (a página **antiga** é tão boa ou melhor do que a nova para \"converter\")\n",
    "\n",
    "$Hipótese_{alternativa} \\rightarrow H_1: p_{new} - p_{old} > 0$ (a página **nova** é melhor para \"converter\" pessoas)\n",
    "\n",
    "- Margem de confiança para erro **Tipo I** (falso positivo): **5%**\n",
    "\n",
    "*Nada como o bom **codificador LaTex** online [aqui](https://latex.codecogs.com/eqneditor/editor.php)*"
   ]
  },
  {
   "cell_type": "markdown",
   "metadata": {},
   "source": [
    "`2.` Assume under the null hypothesis, $p_{new}$ and $p_{old}$ both have \"true\" success rates equal to the **converted** success rate regardless of page - that is $p_{new}$ and $p_{old}$ are equal. Furthermore, assume they are equal to the **converted** rate in **ab_data.csv** regardless of the page. <br><br>\n",
    "\n",
    "Use a sample size for each page equal to the ones in **ab_data.csv**.  <br><br>\n",
    "\n",
    "Perform the sampling distribution for the difference in **converted** between the two pages over 10,000 iterations of calculating an estimate from the null.  <br><br>\n",
    "\n",
    "Use the cells below to provide the necessary parts of this simulation.  If this doesn't make complete sense right now, don't worry - you are going to work through the problems below to complete this problem.  You can use **Quiz 5** in the classroom to make sure you are on the right track.<br><br>"
   ]
  },
  {
   "cell_type": "markdown",
   "metadata": {},
   "source": [
    "#### Parei aqui"
   ]
  },
  {
   "cell_type": "markdown",
   "metadata": {},
   "source": [
    "a. What is the **convert rate** for $p_{new}$ under the null? "
   ]
  },
  {
   "cell_type": "markdown",
   "metadata": {},
   "source": [
    "*Qual é a condição **limite** de validade da $H_0$? É que a taxa de \"conversões\" da nova página é **igual** à da página anterior (ou seja, que a página nova será tão boa quanto a anterior). Então a $p_{nova}$ será igual à $p_{antiga}. Assim, como não faz diferença se estamos na página nova ou antiga...*"
   ]
  },
  {
   "cell_type": "code",
   "execution_count": 112,
   "metadata": {
    "scrolled": true
   },
   "outputs": [
    {
     "name": "stdout",
     "output_type": "stream",
     "text": [
      "Segundo a H0, a taxa de conversão para a página nova será : 0.11959667567149027\n"
     ]
    }
   ],
   "source": [
    "dfpnova = df2['converted']\n",
    "print ('Segundo a H0, a taxa de conversão para a página nova será :', dfpnova.mean())"
   ]
  },
  {
   "cell_type": "markdown",
   "metadata": {},
   "source": [
    "b. What is the **convert rate** for $p_{old}$ under the null? <br><br>"
   ]
  },
  {
   "cell_type": "code",
   "execution_count": 114,
   "metadata": {},
   "outputs": [
    {
     "name": "stdout",
     "output_type": "stream",
     "text": [
      "Segundo a H0, a taxa de conversão para a página antiga será : 0.11959667567149027\n"
     ]
    }
   ],
   "source": [
    "dfpvelha = dfpnova\n",
    "print ('Segundo a H0, a taxa de conversão para a página antiga será :', dfpvelha.mean())"
   ]
  },
  {
   "cell_type": "markdown",
   "metadata": {},
   "source": [
    "### 4/5\n",
    "\n",
    "c. What is $n_{new}$?"
   ]
  },
  {
   "cell_type": "code",
   "execution_count": 115,
   "metadata": {},
   "outputs": [
    {
     "name": "stdout",
     "output_type": "stream",
     "text": [
      "                          timestamp      group landing_page  converted\n",
      "user_id                                                               \n",
      "784037   2017-01-21 00:19:40.050947    control     old_page          0\n",
      "722208   2017-01-16 12:20:41.527847    control     old_page          0\n",
      "695987   2017-01-04 17:37:31.719195  treatment     new_page          0\n",
      "716577   2017-01-15 08:04:08.878027  treatment     new_page          0\n",
      "                          timestamp      group landing_page  converted\n",
      "user_id                                                               \n",
      "921241   2017-01-21 19:16:45.087541  treatment     new_page          0\n",
      "843246   2017-01-12 10:53:36.093226  treatment     new_page          0\n",
      "O número de acessos à nova página foi : 145311\n"
     ]
    }
   ],
   "source": [
    "print(df2.sample(4))\n",
    "dfnovapagina = df2.query('landing_page == \"new_page\"')\n",
    "print(dfnovapagina.sample(2))\n",
    "print('O número de acessos à nova página foi :', len(dfnovapagina))"
   ]
  },
  {
   "cell_type": "markdown",
   "metadata": {},
   "source": [
    "d. What is $n_{old}$?"
   ]
  },
  {
   "cell_type": "code",
   "execution_count": 116,
   "metadata": {},
   "outputs": [
    {
     "name": "stdout",
     "output_type": "stream",
     "text": [
      "                          timestamp    group landing_page  converted\n",
      "user_id                                                             \n",
      "917765   2017-01-06 21:33:38.785081  control     old_page          0\n",
      "841271   2017-01-03 16:32:17.179466  control     old_page          0\n",
      "O número de acessos à nova página foi : 145274\n"
     ]
    }
   ],
   "source": [
    "dfvelhapagina = df2.query('landing_page == \"old_page\"')\n",
    "print(dfvelhapagina.sample(2))\n",
    "print('O número de acessos à nova página foi :', len(dfvelhapagina))"
   ]
  },
  {
   "cell_type": "markdown",
   "metadata": {},
   "source": [
    "#### Parei aqui"
   ]
  },
  {
   "cell_type": "markdown",
   "metadata": {},
   "source": [
    "e. Simulate $n_{new}$ transactions with a convert rate of $p_{new}$ under the null.  Store these $n_{new}$ 1's and 0's in **new_page_converted**."
   ]
  },
  {
   "cell_type": "markdown",
   "metadata": {},
   "source": [
    "A ideia aqui é a seguinte. Eu tenho uma **estatística**, ou seja:\n",
    "\n",
    "- uma média\n",
    "\n",
    "- uma quantidade n de elementos\n",
    "\n",
    "Supondo que eu não tivesse mais aquele dataset original. Eu posso reconstruir um similar, com suas mesmas características **estatísticas**. Em Física, chamaríamos isso de formatar um modelo **granular** a partir de determinadas equações ou condições de existência."
   ]
  },
  {
   "cell_type": "code",
   "execution_count": 118,
   "metadata": {},
   "outputs": [
    {
     "name": "stdout",
     "output_type": "stream",
     "text": [
      "Nova - meu tamanho amostral original :145311, reconstuído :145311\n"
     ]
    }
   ],
   "source": [
    "import numpy as np\n",
    "\n",
    "a = [0, 1] #a minha semente de opções\n",
    "nnova = len(dfnovapagina)\n",
    "#print(nnova)\n",
    "pnova = dfpnova.mean()\n",
    "\n",
    "new_page_converted = np.random.choice(a, size=nnova, p=[1-pnova, pnova])\n",
    "print('Nova - meu tamanho amostral original :{}, reconstuído :{}'.format(nnova,\n",
    "                                                                         len(new_page_converted)))"
   ]
  },
  {
   "cell_type": "markdown",
   "metadata": {},
   "source": [
    "f. Simulate $n_{old}$ transactions with a convert rate of $p_{old}$ under the null.  Store these $n_{old}$ 1's and 0's in **old_page_converted**."
   ]
  },
  {
   "cell_type": "code",
   "execution_count": 119,
   "metadata": {},
   "outputs": [
    {
     "name": "stdout",
     "output_type": "stream",
     "text": [
      "Velha - meu tamanho amostral original:145274, reconstuído:145274\n"
     ]
    }
   ],
   "source": [
    "nvelha = len(dfvelhapagina)\n",
    "pvelha = dfpvelha.mean()\n",
    "\n",
    "old_page_converted = np.random.choice(a, size=nvelha, p=[1-pvelha, pvelha])\n",
    "print('Velha - meu tamanho amostral original:{}, reconstuído:{}'.format(nvelha,len(old_page_converted)))"
   ]
  },
  {
   "cell_type": "markdown",
   "metadata": {},
   "source": [
    "g. Find $p_{new}$ - $p_{old}$ for your simulated values from part (e) and (f)."
   ]
  },
  {
   "cell_type": "markdown",
   "metadata": {},
   "source": [
    "*Observe que a simulação gerou uma diferença realmente **muito pequena**. Como estamos com o **random choice** aplicado, esta sempre se manterá igual. Mas se o desabilitarmos, poderíamos ver que esse número varia um pouco, podendo eventualmente **zerar**. Isso pode ser chamado de **ruído**. É mais ou menos assim...*\n",
    "\n",
    "*Eu não tenho certeza de onde este exercício irá levar, mas no curso (**M3, Aula 14**) o instrutor fala: \"... **quanto mais coisas você testa, mais provável que você observe diferenças significativas, apenas pelo acaso. Isso acontece quando fazemos avaliações de várias métricas ao mesmo tempo. A probabilidade de falso positivo aumenta conforme você aumenta o número de métricas**...\". Bom, o mesmo acontece quando você aumenta demais o número de amostragens... o ruído começa a ser percebido pelo modelo como **significativo**, quando de fato náo é!*"
   ]
  },
  {
   "cell_type": "code",
   "execution_count": 121,
   "metadata": {},
   "outputs": [
    {
     "name": "stdout",
     "output_type": "stream",
     "text": [
      "A diferença de probabilidades simuladas para minha nova e velha página é : 0.0014150905758087279\n"
     ]
    }
   ],
   "source": [
    "diff = new_page_converted.mean() - old_page_converted.mean()\n",
    "print('A diferença de probabilidades simuladas para minha nova e velha página é :', diff)"
   ]
  },
  {
   "cell_type": "markdown",
   "metadata": {},
   "source": [
    "h. Simulate 10,000 $p_{new}$ - $p_{old}$ values using this same process similarly to the one you calculated in parts **a. through g.** above.  Store all 10,000 values in a numpy array called **p_diffs**."
   ]
  },
  {
   "cell_type": "markdown",
   "metadata": {},
   "source": [
    "*Cuidado: isso demora muito para rodar!*"
   ]
  },
  {
   "cell_type": "code",
   "execution_count": 123,
   "metadata": {},
   "outputs": [],
   "source": [
    "def embaralhador(nnova, nvelha, pnova, pvelha, tamanho, a=[0,1]):\n",
    "    import numpy as np\n",
    "    captadiff = []\n",
    "\n",
    "    for i in range(tamanho):\n",
    "        new_sample = np.random.choice(a, size=nnova, p=[1-pnova, pnova])\n",
    "        old_sample = np.random.choice(a, size=nvelha, p=[1-pvelha, pvelha])\n",
    "        captadiff.append(new_sample.mean() - old_sample.mean())\n",
    "\n",
    "    return np.array(captadiff)\n",
    "    \n",
    "nnova = len(dfnovapagina)\n",
    "pnova = dfpnova.mean()\n",
    "nvelha = len(dfvelhapagina)\n",
    "pvelha = dfpvelha.mean()\n",
    "    \n",
    "p_diffs = embaralhador(nnova, nvelha, pnova, pvelha, 10000)"
   ]
  },
  {
   "cell_type": "markdown",
   "metadata": {},
   "source": [
    "Pareceu OK:"
   ]
  },
  {
   "cell_type": "code",
   "execution_count": 132,
   "metadata": {},
   "outputs": [
    {
     "name": "stdout",
     "output_type": "stream",
     "text": [
      "[-0.00065689 -0.00066359  0.0013392  ... -0.00073949  0.00032063\n",
      " -0.00077361]\n",
      "10000\n"
     ]
    },
    {
     "data": {
      "text/plain": [
       "-0.0006568860245934893"
      ]
     },
     "execution_count": 132,
     "metadata": {},
     "output_type": "execute_result"
    }
   ],
   "source": [
    "print(p_diffs)\n",
    "print(len(p_diffs))\n",
    "p_diffs[0]"
   ]
  },
  {
   "cell_type": "code",
   "execution_count": 126,
   "metadata": {},
   "outputs": [],
   "source": [
    "np.save('matrizdiff.npy', p_diffs)"
   ]
  },
  {
   "cell_type": "code",
   "execution_count": 53,
   "metadata": {},
   "outputs": [],
   "source": [
    "df2.to_csv('abdf2.csv', sep='\\t', encoding='utf-8', index=False)"
   ]
  },
  {
   "cell_type": "markdown",
   "metadata": {},
   "source": [
    "#### Parei aqui"
   ]
  },
  {
   "cell_type": "markdown",
   "metadata": {},
   "source": [
    "Truque do preguiçoso: busquei na documentação do numpy como gravar um binário com os valores gerados para continuar mais tarde..."
   ]
  },
  {
   "cell_type": "code",
   "execution_count": 8,
   "metadata": {},
   "outputs": [],
   "source": [
    "import numpy as np"
   ]
  },
  {
   "cell_type": "code",
   "execution_count": 9,
   "metadata": {},
   "outputs": [],
   "source": [
    "p_diffs = np.load('matrizdiff.npy')"
   ]
  },
  {
   "cell_type": "code",
   "execution_count": 10,
   "metadata": {
    "scrolled": true
   },
   "outputs": [
    {
     "data": {
      "text/plain": [
       "array([-0.00065689, -0.00066359,  0.0013392 , ..., -0.00073949,\n",
       "        0.00032063, -0.00077361])"
      ]
     },
     "execution_count": 10,
     "metadata": {},
     "output_type": "execute_result"
    }
   ],
   "source": [
    "p_diffs"
   ]
  },
  {
   "cell_type": "code",
   "execution_count": 2,
   "metadata": {},
   "outputs": [
    {
     "ename": "FileNotFoundError",
     "evalue": "[Errno 2] File b'abdf2.csv' does not exist: b'abdf2.csv'",
     "output_type": "error",
     "traceback": [
      "\u001b[1;31m---------------------------------------------------------------------------\u001b[0m",
      "\u001b[1;31mFileNotFoundError\u001b[0m                         Traceback (most recent call last)",
      "\u001b[1;32m<ipython-input-2-31259a5d3e7d>\u001b[0m in \u001b[0;36m<module>\u001b[1;34m\u001b[0m\n\u001b[1;32m----> 1\u001b[1;33m \u001b[0mdf2\u001b[0m \u001b[1;33m=\u001b[0m \u001b[0mpd\u001b[0m\u001b[1;33m.\u001b[0m\u001b[0mread_csv\u001b[0m\u001b[1;33m(\u001b[0m\u001b[1;34m'abdf2.csv'\u001b[0m\u001b[1;33m,\u001b[0m \u001b[0msep\u001b[0m\u001b[1;33m=\u001b[0m\u001b[1;34m'\\t'\u001b[0m\u001b[1;33m,\u001b[0m \u001b[0mencoding\u001b[0m\u001b[1;33m=\u001b[0m\u001b[1;34m'utf-8'\u001b[0m\u001b[1;33m,\u001b[0m \u001b[0mindex_col\u001b[0m\u001b[1;33m=\u001b[0m\u001b[1;32mFalse\u001b[0m\u001b[1;33m)\u001b[0m\u001b[1;33m\u001b[0m\u001b[1;33m\u001b[0m\u001b[0m\n\u001b[0m\u001b[0;32m      2\u001b[0m \u001b[0mdf2\u001b[0m\u001b[1;33m.\u001b[0m\u001b[0mhead\u001b[0m\u001b[1;33m(\u001b[0m\u001b[1;36m2\u001b[0m\u001b[1;33m)\u001b[0m\u001b[1;33m\u001b[0m\u001b[1;33m\u001b[0m\u001b[0m\n",
      "\u001b[1;32mC:\\ProgramData\\Anaconda3\\lib\\site-packages\\pandas\\io\\parsers.py\u001b[0m in \u001b[0;36mparser_f\u001b[1;34m(filepath_or_buffer, sep, delimiter, header, names, index_col, usecols, squeeze, prefix, mangle_dupe_cols, dtype, engine, converters, true_values, false_values, skipinitialspace, skiprows, skipfooter, nrows, na_values, keep_default_na, na_filter, verbose, skip_blank_lines, parse_dates, infer_datetime_format, keep_date_col, date_parser, dayfirst, iterator, chunksize, compression, thousands, decimal, lineterminator, quotechar, quoting, doublequote, escapechar, comment, encoding, dialect, tupleize_cols, error_bad_lines, warn_bad_lines, delim_whitespace, low_memory, memory_map, float_precision)\u001b[0m\n\u001b[0;32m    700\u001b[0m                     skip_blank_lines=skip_blank_lines)\n\u001b[0;32m    701\u001b[0m \u001b[1;33m\u001b[0m\u001b[0m\n\u001b[1;32m--> 702\u001b[1;33m         \u001b[1;32mreturn\u001b[0m \u001b[0m_read\u001b[0m\u001b[1;33m(\u001b[0m\u001b[0mfilepath_or_buffer\u001b[0m\u001b[1;33m,\u001b[0m \u001b[0mkwds\u001b[0m\u001b[1;33m)\u001b[0m\u001b[1;33m\u001b[0m\u001b[1;33m\u001b[0m\u001b[0m\n\u001b[0m\u001b[0;32m    703\u001b[0m \u001b[1;33m\u001b[0m\u001b[0m\n\u001b[0;32m    704\u001b[0m     \u001b[0mparser_f\u001b[0m\u001b[1;33m.\u001b[0m\u001b[0m__name__\u001b[0m \u001b[1;33m=\u001b[0m \u001b[0mname\u001b[0m\u001b[1;33m\u001b[0m\u001b[1;33m\u001b[0m\u001b[0m\n",
      "\u001b[1;32mC:\\ProgramData\\Anaconda3\\lib\\site-packages\\pandas\\io\\parsers.py\u001b[0m in \u001b[0;36m_read\u001b[1;34m(filepath_or_buffer, kwds)\u001b[0m\n\u001b[0;32m    427\u001b[0m \u001b[1;33m\u001b[0m\u001b[0m\n\u001b[0;32m    428\u001b[0m     \u001b[1;31m# Create the parser.\u001b[0m\u001b[1;33m\u001b[0m\u001b[1;33m\u001b[0m\u001b[1;33m\u001b[0m\u001b[0m\n\u001b[1;32m--> 429\u001b[1;33m     \u001b[0mparser\u001b[0m \u001b[1;33m=\u001b[0m \u001b[0mTextFileReader\u001b[0m\u001b[1;33m(\u001b[0m\u001b[0mfilepath_or_buffer\u001b[0m\u001b[1;33m,\u001b[0m \u001b[1;33m**\u001b[0m\u001b[0mkwds\u001b[0m\u001b[1;33m)\u001b[0m\u001b[1;33m\u001b[0m\u001b[1;33m\u001b[0m\u001b[0m\n\u001b[0m\u001b[0;32m    430\u001b[0m \u001b[1;33m\u001b[0m\u001b[0m\n\u001b[0;32m    431\u001b[0m     \u001b[1;32mif\u001b[0m \u001b[0mchunksize\u001b[0m \u001b[1;32mor\u001b[0m \u001b[0miterator\u001b[0m\u001b[1;33m:\u001b[0m\u001b[1;33m\u001b[0m\u001b[1;33m\u001b[0m\u001b[0m\n",
      "\u001b[1;32mC:\\ProgramData\\Anaconda3\\lib\\site-packages\\pandas\\io\\parsers.py\u001b[0m in \u001b[0;36m__init__\u001b[1;34m(self, f, engine, **kwds)\u001b[0m\n\u001b[0;32m    893\u001b[0m             \u001b[0mself\u001b[0m\u001b[1;33m.\u001b[0m\u001b[0moptions\u001b[0m\u001b[1;33m[\u001b[0m\u001b[1;34m'has_index_names'\u001b[0m\u001b[1;33m]\u001b[0m \u001b[1;33m=\u001b[0m \u001b[0mkwds\u001b[0m\u001b[1;33m[\u001b[0m\u001b[1;34m'has_index_names'\u001b[0m\u001b[1;33m]\u001b[0m\u001b[1;33m\u001b[0m\u001b[1;33m\u001b[0m\u001b[0m\n\u001b[0;32m    894\u001b[0m \u001b[1;33m\u001b[0m\u001b[0m\n\u001b[1;32m--> 895\u001b[1;33m         \u001b[0mself\u001b[0m\u001b[1;33m.\u001b[0m\u001b[0m_make_engine\u001b[0m\u001b[1;33m(\u001b[0m\u001b[0mself\u001b[0m\u001b[1;33m.\u001b[0m\u001b[0mengine\u001b[0m\u001b[1;33m)\u001b[0m\u001b[1;33m\u001b[0m\u001b[1;33m\u001b[0m\u001b[0m\n\u001b[0m\u001b[0;32m    896\u001b[0m \u001b[1;33m\u001b[0m\u001b[0m\n\u001b[0;32m    897\u001b[0m     \u001b[1;32mdef\u001b[0m \u001b[0mclose\u001b[0m\u001b[1;33m(\u001b[0m\u001b[0mself\u001b[0m\u001b[1;33m)\u001b[0m\u001b[1;33m:\u001b[0m\u001b[1;33m\u001b[0m\u001b[1;33m\u001b[0m\u001b[0m\n",
      "\u001b[1;32mC:\\ProgramData\\Anaconda3\\lib\\site-packages\\pandas\\io\\parsers.py\u001b[0m in \u001b[0;36m_make_engine\u001b[1;34m(self, engine)\u001b[0m\n\u001b[0;32m   1120\u001b[0m     \u001b[1;32mdef\u001b[0m \u001b[0m_make_engine\u001b[0m\u001b[1;33m(\u001b[0m\u001b[0mself\u001b[0m\u001b[1;33m,\u001b[0m \u001b[0mengine\u001b[0m\u001b[1;33m=\u001b[0m\u001b[1;34m'c'\u001b[0m\u001b[1;33m)\u001b[0m\u001b[1;33m:\u001b[0m\u001b[1;33m\u001b[0m\u001b[1;33m\u001b[0m\u001b[0m\n\u001b[0;32m   1121\u001b[0m         \u001b[1;32mif\u001b[0m \u001b[0mengine\u001b[0m \u001b[1;33m==\u001b[0m \u001b[1;34m'c'\u001b[0m\u001b[1;33m:\u001b[0m\u001b[1;33m\u001b[0m\u001b[1;33m\u001b[0m\u001b[0m\n\u001b[1;32m-> 1122\u001b[1;33m             \u001b[0mself\u001b[0m\u001b[1;33m.\u001b[0m\u001b[0m_engine\u001b[0m \u001b[1;33m=\u001b[0m \u001b[0mCParserWrapper\u001b[0m\u001b[1;33m(\u001b[0m\u001b[0mself\u001b[0m\u001b[1;33m.\u001b[0m\u001b[0mf\u001b[0m\u001b[1;33m,\u001b[0m \u001b[1;33m**\u001b[0m\u001b[0mself\u001b[0m\u001b[1;33m.\u001b[0m\u001b[0moptions\u001b[0m\u001b[1;33m)\u001b[0m\u001b[1;33m\u001b[0m\u001b[1;33m\u001b[0m\u001b[0m\n\u001b[0m\u001b[0;32m   1123\u001b[0m         \u001b[1;32melse\u001b[0m\u001b[1;33m:\u001b[0m\u001b[1;33m\u001b[0m\u001b[1;33m\u001b[0m\u001b[0m\n\u001b[0;32m   1124\u001b[0m             \u001b[1;32mif\u001b[0m \u001b[0mengine\u001b[0m \u001b[1;33m==\u001b[0m \u001b[1;34m'python'\u001b[0m\u001b[1;33m:\u001b[0m\u001b[1;33m\u001b[0m\u001b[1;33m\u001b[0m\u001b[0m\n",
      "\u001b[1;32mC:\\ProgramData\\Anaconda3\\lib\\site-packages\\pandas\\io\\parsers.py\u001b[0m in \u001b[0;36m__init__\u001b[1;34m(self, src, **kwds)\u001b[0m\n\u001b[0;32m   1851\u001b[0m         \u001b[0mkwds\u001b[0m\u001b[1;33m[\u001b[0m\u001b[1;34m'usecols'\u001b[0m\u001b[1;33m]\u001b[0m \u001b[1;33m=\u001b[0m \u001b[0mself\u001b[0m\u001b[1;33m.\u001b[0m\u001b[0musecols\u001b[0m\u001b[1;33m\u001b[0m\u001b[1;33m\u001b[0m\u001b[0m\n\u001b[0;32m   1852\u001b[0m \u001b[1;33m\u001b[0m\u001b[0m\n\u001b[1;32m-> 1853\u001b[1;33m         \u001b[0mself\u001b[0m\u001b[1;33m.\u001b[0m\u001b[0m_reader\u001b[0m \u001b[1;33m=\u001b[0m \u001b[0mparsers\u001b[0m\u001b[1;33m.\u001b[0m\u001b[0mTextReader\u001b[0m\u001b[1;33m(\u001b[0m\u001b[0msrc\u001b[0m\u001b[1;33m,\u001b[0m \u001b[1;33m**\u001b[0m\u001b[0mkwds\u001b[0m\u001b[1;33m)\u001b[0m\u001b[1;33m\u001b[0m\u001b[1;33m\u001b[0m\u001b[0m\n\u001b[0m\u001b[0;32m   1854\u001b[0m         \u001b[0mself\u001b[0m\u001b[1;33m.\u001b[0m\u001b[0munnamed_cols\u001b[0m \u001b[1;33m=\u001b[0m \u001b[0mself\u001b[0m\u001b[1;33m.\u001b[0m\u001b[0m_reader\u001b[0m\u001b[1;33m.\u001b[0m\u001b[0munnamed_cols\u001b[0m\u001b[1;33m\u001b[0m\u001b[1;33m\u001b[0m\u001b[0m\n\u001b[0;32m   1855\u001b[0m \u001b[1;33m\u001b[0m\u001b[0m\n",
      "\u001b[1;32mpandas\\_libs\\parsers.pyx\u001b[0m in \u001b[0;36mpandas._libs.parsers.TextReader.__cinit__\u001b[1;34m()\u001b[0m\n",
      "\u001b[1;32mpandas\\_libs\\parsers.pyx\u001b[0m in \u001b[0;36mpandas._libs.parsers.TextReader._setup_parser_source\u001b[1;34m()\u001b[0m\n",
      "\u001b[1;31mFileNotFoundError\u001b[0m: [Errno 2] File b'abdf2.csv' does not exist: b'abdf2.csv'"
     ]
    }
   ],
   "source": [
    "df2 = pd.read_csv('abdf2.csv', sep='\\t', encoding='utf-8', index_col=False)\n",
    "df2.head(2)"
   ]
  },
  {
   "cell_type": "markdown",
   "metadata": {},
   "source": [
    "i. Plot a histogram of the **p_diffs**.  Does this plot look like what you expected?  Use the matching problem in the classroom to assure you fully understand what was computed here."
   ]
  },
  {
   "cell_type": "code",
   "execution_count": 70,
   "metadata": {
    "scrolled": true
   },
   "outputs": [
    {
     "data": {
      "image/png": "[encoded data removed]",
      "text/plain": [
       "<Figure size 432x288 with 1 Axes>"
      ]
     },
     "metadata": {},
     "output_type": "display_data"
    }
   ],
   "source": [
    "%matplotlib inline\n",
    "import seaborn as sns\n",
    "import matplotlib.pyplot as plt\n",
    "\n",
    "sns.set_style(\"darkgrid\") \n",
    "sns.distplot(p_diffs).set_title('Histograma das p_diffs'); #<-esse ; elimina aquela linha de chamada horrorosa\n",
    "\n",
    "#código descartado (eu posso precisar dele, se algo der errado!)\n",
    "#plt.ioff()\n",
    "#seaborn.distplot(a, bins=None, hist=True, kde=True, rug=False, fit=None, \n",
    "#                 hist_kws=None, kde_kws=None, rug_kws=None, fit_kws=None\n",
    "#                 color=None, vertical=False, norm_hist=False, axlabel=None, label=None, ax=None)\n",
    "\n",
    "#plt.hist(p_diffs) #ficou horroroso, vamos para o Seaborn!"
   ]
  },
  {
   "cell_type": "markdown",
   "metadata": {},
   "source": [
    "Queremos a diferença da média de conversões ocorridas na página nova e na antiga:"
   ]
  },
  {
   "cell_type": "code",
   "execution_count": 77,
   "metadata": {},
   "outputs": [
    {
     "name": "stdout",
     "output_type": "stream",
     "text": [
      "-0.0015790565976871451\n"
     ]
    },
    {
     "data": {
      "image/png": "[encoded data removed]",
      "text/plain": [
       "<Figure size 432x288 with 1 Axes>"
      ]
     },
     "metadata": {},
     "output_type": "display_data"
    }
   ],
   "source": [
    "#fizemos essas coisas lá em cima...\n",
    "dfnovo = df2.query('group == \"treatment\"')\n",
    "medconvnovo = dfnovo.converted.mean()\n",
    "\n",
    "dfvelho = df2.query('group == \"control\"')\n",
    "medconvvelho = dfvelho.converted.mean()\n",
    "\n",
    "diffobservada = medconvnovo - medconvvelho\n",
    "print(diffobservada)\n",
    "\n",
    "#plt.axvline(x=obs_diff, color='red');\n",
    "plt.axvline(x=diffobservada, linestyle = '--', color='g');"
   ]
  },
  {
   "cell_type": "markdown",
   "metadata": {},
   "source": [
    "Juntando as coisas...\n",
    "\n",
    "*Bom, eu espeava essa linha verde aí bem no **centro** da minha curva de distribuição normal...*\n",
    "\n",
    "*Pensando bem, o azulzinho veio de uma simulação computacional, o verdinho veio de um outro dataset, que é o do experimento real...*\n",
    "\n",
    "*Se eu não estivesse com meu gerador de números aleatórios travado em um set de geração, eu aposto como se se fosse rodando esta simulação várias vezes, iria ver essa barra verde \"passeando\" pelo gráfico de distribuição normal... eu posso dizer que sei qual é o problema aqui: é **ruído**! Estou lidando com um conjunto de amostras **muito grande** e como dito em aula, o ruído pode nos pregar alguns truques!*\n",
    "\n",
    "---\n",
    "\n",
    "*A propósito, ando penando mais do que esperava para gerar meus gráficos... então estou adquirindo o tutorial da Datacamp de plotagens no Seaborn (o Pyplot sempre me deu surpresas horríveis!)* "
   ]
  },
  {
   "cell_type": "code",
   "execution_count": 72,
   "metadata": {},
   "outputs": [
    {
     "data": {
      "image/png": "[encoded data removed]",
      "text/plain": [
       "<Figure size 432x288 with 1 Axes>"
      ]
     },
     "metadata": {},
     "output_type": "display_data"
    }
   ],
   "source": [
    "bsns.set_style(\"darkgrid\") \n",
    "sns.distplot(p_diffs).set_title('Histograma das p_diffs')\n",
    "plt.axvline(x=diffobservada, linestyle = '--', color='g');"
   ]
  },
  {
   "cell_type": "markdown",
   "metadata": {},
   "source": [
    "j. What proportion of the **p_diffs** are greater than the actual difference observed in **ab_data.csv**?"
   ]
  },
  {
   "cell_type": "markdown",
   "metadata": {},
   "source": [
    "Isso daqui tem cara de **valor-p**..."
   ]
  },
  {
   "cell_type": "code",
   "execution_count": 75,
   "metadata": {},
   "outputs": [
    {
     "data": {
      "text/plain": [
       "0.9106"
      ]
     },
     "execution_count": 75,
     "metadata": {},
     "output_type": "execute_result"
    }
   ],
   "source": [
    "(p_diffs > diffobservada).mean()"
   ]
  },
  {
   "cell_type": "markdown",
   "metadata": {},
   "source": [
    "k. In words, explain what you just computed in part **j.**  What is this value called in scientific studies?  What does this value mean in terms of whether or not there is a difference between the new and old pages?"
   ]
  },
  {
   "cell_type": "markdown",
   "metadata": {},
   "source": [
    "Primeiro, com relação a **Teste de hipóteses estatísticas**, existe o conceito de:\n",
    "\n",
    "- **Nível de significância** que é a probabilidade de se observar resultados amostrais tão ou mais extremos do que aqueles observados, considerando-se $H_{0}$ verdadeira (nossa **premissa inicial**). Se esta probabilidade for pequena, concluímos que há provas suficientes para rejeitar $H_{0}$. Para isso a abordagem:\n",
    "\n",
    " - **Nível de significância observado - **valor-P** \n",
    " \n",
    "   - **primeiro** a estatística teste é calculada usando-se dado amostral\n",
    "   \n",
    "   - **então** a distribuição de probabilidade apropriada é usada para encontrar a probabilide de se observar uma estatística amostral que seja pelo menos **um pouco** diferente do valor da $H_{0}$ para o parâmetro populacional (**valor-P**)\n",
    "   \n",
    "   - (lembrando que quanto **menor o valor-p, melhor a prova contra $H_{0}$\n",
    "   \n",
    "(fonte: **Resumão de Estatística** (texto ligeiramente modificado) - nada como uma visita na Livraria Cultura no feriadão do Carnaval...)\n",
    "\n",
    "Bom, o valor-p foi calculado, apontando a proporção dos valores da distribuição nula que foram maiores do que a diferença observada nos dados reais.\n",
    "\n",
    "Meu valor-p ficou **bem acima** da nossa taxa de aceitação de 5% esperado para erro do Tipo I (**falso positivo**, ou **rejeitar** a $H_{0}, sendo ela **verdadeira**).\n",
    "\n",
    "Assim podemos afirmar que:\n",
    "\n",
    "- falhamos em rejeitar a $H_{0}\n",
    "\n",
    "- não há evidências que comprovem que a nova página produz mais conversões do que a primeira"
   ]
  },
  {
   "cell_type": "markdown",
   "metadata": {},
   "source": [
    "l. We could also use a built-in to achieve similar results.  Though using the built-in might be easier to code, the above portions are a walkthrough of the ideas that are critical to correctly thinking about statistical significance. Fill in the below to calculate the number of conversions for each page, as well as the number of individuals who received each page. Let `n_old` and `n_new` refer the the number of rows associated with the old page and new pages, respectively."
   ]
  },
  {
   "cell_type": "code",
   "execution_count": 85,
   "metadata": {},
   "outputs": [
    {
     "name": "stdout",
     "output_type": "stream",
     "text": [
      "17489 17264\n",
      "145274 145311\n"
     ]
    }
   ],
   "source": [
    "dfnovo2 = df2.query('landing_page == \"new_page\"')\n",
    "medconvnovo = dfnovo.converted.mean()\n",
    "\n",
    "dfvelho2 = df2.query('landing_page == \"old_page\"')\n",
    "medconvvelho = dfvelho.converted.mean()\n",
    "\n",
    "convert_new = dfnovo2['converted'].sum()\n",
    "convert_old = dfvelho2['converted'].sum()\n",
    "print (convert_old, convert_new)\n",
    "\n",
    "n_new = len(dfnovo2)\n",
    "n_old = len(dfvelho2)\n",
    "print (n_old, n_new)"
   ]
  },
  {
   "cell_type": "markdown",
   "metadata": {},
   "source": [
    "m. Now use `stats.proportions_ztest` to compute your test statistic and p-value.  [Here](http://knowledgetack.com/python/statsmodels/proportions_ztest/) is a helpful link on using the built in."
   ]
  },
  {
   "cell_type": "markdown",
   "metadata": {},
   "source": [
    "O link indicado não funciona, o site não existe mais! Mas no Statsmodels, encontrei [aqui](https://www.statsmodels.org/dev/generated/statsmodels.stats.proportion.proportions_ztest.html) algumas dicas bastante claras sobre o uso do método **proportions_ztest()**\n",
    "\n",
    "---\n",
    "\n",
    "        .stats.proportions_ztest(count, nobs, value=None, alternative='two-sided', prop_var=False)\n",
    "\n",
    "- **count** – the number of successes in nobs trials. If this is array_like, then the assumption is that this represents the number of successes for each independent sample\n",
    "\n",
    "- **nobs** – the number of trials or observations, with the same length as count\n",
    "\n",
    "---\n",
    "\n",
    "- **alternative** – The alternative hypothesis can be either two-sided (**não é meu caso**) or one of the one-sided tests\n",
    "\n",
    "- In the two sample test:\n",
    "\n",
    " - smaller means that the alternative hypothesis is **prop < value** (p1 < p2) (**não quero isso**)\n",
    " \n",
    " - larger means **prop > value** (p1 > p2 - where p1 is the proportion of the first sample and p2 of the second one)\n",
    "\n",
    "---\n",
    "\n",
    "Returns:\t\n",
    "\n",
    "- **zstat** – test statistic for the z-test\n",
    "- **p-value** – p-value for the z-test\n",
    "\n",
    "*Fonte: Statsmodels (levemente adaptado para meu contexto)*  "
   ]
  },
  {
   "cell_type": "code",
   "execution_count": 87,
   "metadata": {},
   "outputs": [],
   "source": [
    "from scipy.stats import norm"
   ]
  },
  {
   "cell_type": "code",
   "execution_count": 99,
   "metadata": {},
   "outputs": [
    {
     "name": "stdout",
     "output_type": "stream",
     "text": [
      "teste z (unicaudal):  -1.3116075339133115\n",
      "valor-p (unicaudal):  0.905173705140591\n"
     ]
    }
   ],
   "source": [
    "#sm.stats.proportion.proportions_ztest(count, nobs, \n",
    "#                                      value=None, alternative='two-sided', prop_var=False\n",
    "valores = sm.stats.proportions_ztest([convert_new, convert_old], [n_new, n_old], \n",
    "                                     alternative='larger')\n",
    "#isso me traz uma tupla (teste-z, valor-p)\n",
    "print('teste z (unicaudal): ', valores[0])\n",
    "print('valor-p (unicaudal): ', valores[1])"
   ]
  },
  {
   "cell_type": "code",
   "execution_count": 88,
   "metadata": {},
   "outputs": [],
   "source": [
    "import statsmodels.api as sm"
   ]
  },
  {
   "cell_type": "markdown",
   "metadata": {},
   "source": [
    "---\n",
    "\n",
    "Isso tem a ver com **Estatística-T**\n",
    "\n",
    "Dada uma curva de distribuição **normal**, nós podemos inferir áreas sob esta curva, cruzadas por pontos de probabilizade $z$.\n",
    "\n",
    "*Antigamente tínhamos tabelas para fazer isso. Então eu peguei o meu **Resumão de Estatística**, coloquei lá **Teste Unicaudal**, com **Nível de Significância A = 0.05** (este A me diz que é um teste **unilateral**, ou **unicaudal**). Muito bem, eu quero a rabeira da curva, com **GL = inf** (graus de liberdade infinitos, ou maior do que 30) e chego a:\n",
    "\n",
    "- $\\alpha = 1.645$\n",
    "\n",
    "#### Como calcular valores críticos\n",
    "\n",
    "**Cumulative Density Function (CDF)**: Returns the probability for an observation equal to or lesser than a specific value from the distribution.\n",
    "\n",
    "**Percent Point Function (PPF)**: Returns the observation value for the provided probability that is less than or equal to the provided probability from the distribution (o contrário do CDF - é o que eu procuro!)\n",
    "\n",
    "*Conceitos encontrados [aqui](https://machinelearningmastery.com/critical-values-for-statistical-hypothesis-testing/)*\n",
    "\n",
    "---"
   ]
  },
  {
   "cell_type": "code",
   "execution_count": 101,
   "metadata": {},
   "outputs": [
    {
     "name": "stdout",
     "output_type": "stream",
     "text": [
      "alfa:  1.6448536269514722\n"
     ]
    }
   ],
   "source": [
    "estatistica = 0.95\n",
    "alpha = norm.ppf(estatistica)\n",
    "print('alfa: ', alpha)"
   ]
  },
  {
   "cell_type": "markdown",
   "metadata": {},
   "source": [
    "n. What do the z-score and p-value you computed in the previous question mean for the conversion rates of the old and new pages?  Do they agree with the findings in parts **j.** and **k.**?"
   ]
  },
  {
   "cell_type": "markdown",
   "metadata": {},
   "source": [
    "Eu tenho:\n",
    "\n",
    "- um teste **unicaudal**\n",
    "\n",
    "- um $\\alpha$=1.645$ (meu valor crítico para este teste)\n",
    "\n",
    "Eu tive comos resultados:\n",
    "\n",
    "- Escore-Z de **-1.31** (abaixo do meu $\\alpha$ - e localizado **antes** do meu ponto central da distribuição normal)\n",
    "\n",
    "- Valor-P de **0.91** (acima de 0.05, ou 5%)\n",
    "\n",
    "Com estes resultados, novamente **falhamos** em rejeitar $H_{0}$\n",
    "\n",
    "Em outras palavras, $H_{0} continua **válida**, ou seja, que a página **anterior** era **tão boa** (ou até melhor) do que a página **nova**, em produzir conversões."
   ]
  },
  {
   "cell_type": "markdown",
   "metadata": {},
   "source": [
    "#### Parei aqui"
   ]
  },
  {
   "cell_type": "markdown",
   "metadata": {},
   "source": [
    "### 5/5\n",
    "\n",
    "<a id='regression'></a>\n",
    "### Part III - A regression approach\n",
    "\n",
    "`1.` In this final part, you will see that the result you acheived in the previous A/B test can also be acheived by performing regression.<br><br>\n",
    "\n",
    "a. Since each row is either a conversion or no conversion, what type of regression should you be performing in this case?"
   ]
  },
  {
   "cell_type": "markdown",
   "metadata": {},
   "source": [
    "Segundo o curso, a regressão que melhor se adapta à conversão de [0, 1], tipo sim/não é a regressão **logística**. O que faz sentido, pois ela é altamente **dispersiva**, ou seja, qualquer afastamento do seu núcleo central leva a uma decisão. No caso, o sim/não pode ser interpretado como uma variável **categórica**\n",
    "\n",
    "Uma explicação melhor para variáveis dummie se encontra [aqui]. Historicamente, máquinas de **babbage** eram programadas com fitas perfuradas (na verdade eram teares automatizados). Quando você tem uma categoria com n tipos diferentes, matematicamente a melhor forma é tratar cada tipo como sendo uma **feição** diferente. Assim, testa-se uma a uma quais as alterações que ela causa no nosso modelo. Faz sentido."
   ]
  },
  {
   "cell_type": "markdown",
   "metadata": {},
   "source": [
    "b. The goal is to use **statsmodels** to fit the regression model you specified in part **a.** to see if there is a significant difference in conversion based on which page a customer receives.  \n",
    "\n",
    "However, you first need to\n",
    "\n",
    "- create a column for the intercept, and \n",
    "\n",
    "- create a dummy variable column for which page each user received.  \n",
    "\n",
    "Add an **intercept** column, as well as an **ab_page** column, which is \n",
    "\n",
    "- 1 when an individual receives the **treatment** and \n",
    "\n",
    "- 0 if **control**."
   ]
  },
  {
   "cell_type": "markdown",
   "metadata": {},
   "source": [
    "Eu preciso criar a variável dummie, com 0 para **control** e 1 para **treatment**"
   ]
  },
  {
   "cell_type": "code",
   "execution_count": null,
   "metadata": {
    "collapsed": true
   },
   "outputs": [],
   "source": [
    "df[['no_fraud', 'fraud']] = pd.get_dummies(df['fraud'])\n",
    "df = df.drop('no_fraud', axis = 1)\n",
    "\n",
    "df2[['control', 'treatment']] = pd.get_dummies(df2['group'])\n",
    "df2 = df2.drop('treatment', axis = 1)\n",
    "\n",
    "#df2['ab_page'] = pd.get_dummies(df2['group'])['treatment']\n",
    "\n",
    "#Criar o intercept\n",
    "df2['intercept'] = 1\n",
    "#df2.head()"
   ]
  },
  {
   "cell_type": "markdown",
   "metadata": {},
   "source": [
    "c. Use **statsmodels** to import your regression model.\n",
    "\n",
    "- Instantiate the model, and\n",
    "\n",
    "- fit the model using the two columns you created in part **b.** to predict whether or not an individual converts."
   ]
  },
  {
   "cell_type": "markdown",
   "metadata": {},
   "source": [
    "Instanciando:"
   ]
  },
  {
   "cell_type": "code",
   "execution_count": null,
   "metadata": {
    "collapsed": true
   },
   "outputs": [],
   "source": [
    "sm.Logit(df['fraud'], axis=1) #o primeiro argumento é a resposta\n",
    "logit_mod = sm.Logit(df['fraud'], df[['intercept', 'duration']])\n",
    "\n",
    "#log_mod = sm.Logit(df2['converted'], df2[['intercept', 'ab_page']])"
   ]
  },
  {
   "cell_type": "markdown",
   "metadata": {},
   "source": [
    "Ajustando:"
   ]
  },
  {
   "cell_type": "code",
   "execution_count": null,
   "metadata": {},
   "outputs": [],
   "source": [
    "results = logit_mod.fit()\n",
    "results.summary\n",
    "\n",
    "#results = log_mod.fit()"
   ]
  },
  {
   "cell_type": "markdown",
   "metadata": {},
   "source": [
    "Lembretes da aula de logística:"
   ]
  },
  {
   "cell_type": "code",
   "execution_count": null,
   "metadata": {},
   "outputs": [],
   "source": [
    "# eu preciso exponenciar o coeficiente da duração\n",
    "np.exp(-1.4637) #para cada unidade aumentada na duração, fraude é 0.23 mais provável\n",
    "\n",
    "#o recíproco\n",
    "1/np.exp(-1.4637) #4.32 vezes menos provável para cada unidade diminuída na duração\n",
    "\n",
    "#e o do weekday\n",
    "np.exp(2.5465) #12.75 vezes mais comum nos dias de semana do que nos finais de semana"
   ]
  },
  {
   "cell_type": "markdown",
   "metadata": {},
   "source": [
    "d. Provide the summary of your model below, and use it as necessary to answer the following questions."
   ]
  },
  {
   "cell_type": "code",
   "execution_count": null,
   "metadata": {
    "collapsed": true
   },
   "outputs": [],
   "source": [
    "results.summary()"
   ]
  },
  {
   "cell_type": "markdown",
   "metadata": {},
   "source": [
    "e. What is the p-value associated with **ab_page**? Why does it differ from the value you found in **Part II**?<br><br>  **Hint**: What are the null and alternative hypotheses associated with your regression model, and how do they compare to the null and alternative hypotheses in the **Part II**?"
   ]
  },
  {
   "cell_type": "code",
   "execution_count": null,
   "metadata": {},
   "outputs": [],
   "source": [
    "O p-valor associado com ab_page é 0.19. Ele se difere do valor encontrado na parte II porque o teste aqui é bicaudal enquanto o teste de lá foi unicaudal.\n",
    "\n",
    "Abaixo podemos simular um Z-teste bicaudal e chegaremos num p-valor semelhante:\n",
    "# Simulando um Z-teste bicauldal com os mesmos valores da parte II\n",
    "z_score, p_value = sm.stats.proportions_ztest([convert_new, convert_old], [n_new, n_old])\n",
    "alpha = norm.ppf(1-(0.05/2))\n",
    "print('z-score: ' + str(z_score))\n",
    "print('p_value: ' + str(p_value))\n",
    "print('alpha: ' + str(alpha))"
   ]
  },
  {
   "cell_type": "markdown",
   "metadata": {},
   "source": [
    "f. Now, you are considering other things that might influence whether or not an individual converts.  Discuss why it is a good idea to consider other factors to add into your regression model.  Are there any disadvantages to adding additional terms into your regression model?"
   ]
  },
  {
   "cell_type": "markdown",
   "metadata": {},
   "source": [
    "Às vezes a adição de outras **feições** (perfil etário, conversões anteriores - identificar se a pessoa já é cliente, grupos de interesse) podem influenciar as decisões atuais, de converter ou não. Um modelo suficientemente rico, mas não rico o suficiente para tentar \"modelizar tudo\" parece ser o que produz os mehores resultados.\n",
    "\n",
    "Agora imagine que eu vá adicionando novas e novas feições a meu modelo. E coisas como a cor da camisa, ou o modelo da bicicleta, ou se a pessoa costuma passar o feriado de final de ano na praia... espere, isso é **realmente** relevante?\n",
    "\n",
    "Às vezes não. Algumas pessoas que compram aquele automóvel com ar condicionado usam camisa branca, outros de lista... e no nós temos um monstro com n feições e muitas delas com **valor-p** elevado...\n",
    "\n",
    "Num mundo ideal eu poderia ter montes e montes de entulho (desde que minha casa fosse realmente grande). Mas na prática o que acontece? Essas coisas vão me gerando **ruído** e distorcendo o modelo e logo eu passo a recomendar que vendedores insistam em vender o **ar condicionado**, caso o meu cliente esteja vestindo a **camisa branca**... o que é isso no fundo? O surgimento de um **falso positivo** e que pode me colocar em situações realmente constrangedoras... "
   ]
  },
  {
   "cell_type": "markdown",
   "metadata": {},
   "source": [
    "g. Now along with testing if the conversion rate changes for different pages, also add an effect based on which country a user lives. You will need to read in the **countries.csv** dataset and merge together your datasets on the approporiate rows.  [Here](https://pandas.pydata.org/pandas-docs/stable/generated/pandas.DataFrame.join.html) are the docs for joining tables. \n",
    "\n",
    "Does it appear that country had an impact on conversion?  Don't forget to create dummy variables for these country columns - **Hint: You will need two columns for the three dummy variables.** Provide the statistical output as well as a written response to answer this question."
   ]
  },
  {
   "cell_type": "code",
   "execution_count": null,
   "metadata": {},
   "outputs": [],
   "source": [
    "df2 = pd.read_csv('abdf2.csv', sep='\\t', encoding='utf-8', index_col='user_id')"
   ]
  },
  {
   "cell_type": "code",
   "execution_count": null,
   "metadata": {},
   "outputs": [],
   "source": [
    "countries_df = pd.read_csv('./countries.csv', sep=',', encoding='utf-8', index_col='user_id')"
   ]
  },
  {
   "cell_type": "code",
   "execution_count": null,
   "metadata": {
    "collapsed": true
   },
   "outputs": [],
   "source": [
    "df_new = countries_df.set_index('user_id').join(df2.set_index('user_id'), how='inner')\n",
    "\n",
    "df_new.country.value_counts()\n",
    "df_new.head()"
   ]
  },
  {
   "cell_type": "code",
   "execution_count": null,
   "metadata": {
    "collapsed": true
   },
   "outputs": [],
   "source": [
    "### Create the necessary dummy variables\n",
    "df_new = df_new.join(pd.get_dummies(df_new.country))\n",
    "df_new.head()"
   ]
  },
  {
   "cell_type": "markdown",
   "metadata": {},
   "source": [
    "h. Though you have now looked at the individual factors of country and page on conversion, we would now like to look at an interaction between page and country to see if there significant effects on conversion.  Create the necessary additional columns, and fit the new model.  \n",
    "\n",
    "Provide the summary results, and your conclusions based on the results."
   ]
  },
  {
   "cell_type": "code",
   "execution_count": null,
   "metadata": {
    "collapsed": true
   },
   "outputs": [],
   "source": [
    "### Fit Your Linear Model And Obtain the Results\n",
    "log_mod = sm.Logit(df_new['converted'], df_new[['intercept', 'UK', 'US']])\n",
    "\n",
    "log_mod = sm.Logit(df_new['converted'], df_new[['intercept', 'ab_page', 'UK', 'US']])\n",
    "\n",
    "results = log_mod.fit()\n",
    "results.summary()"
   ]
  },
  {
   "cell_type": "markdown",
   "metadata": {},
   "source": [
    "Adicionamos toda uma **dimensão** ao nosso modelo, acrescentando a informação **países**. Parece pouco? Pense que se formos adicionando e adicionando novas dimensões, qual a complexidade (e o ruído produzido) que atingiremos.\n",
    "\n",
    "Se a dimensão fosse **relevante**, OK. Mas ao que parece, valor-p acima do crítico de 5% mostra que a nova feição não ajudou a explicar o fenômeno das conversões. Então neste caso, recomenda-se **não manter** a nova feição. "
   ]
  },
  {
   "cell_type": "markdown",
   "metadata": {},
   "source": [
    "## Conclusions\n",
    "\n",
    "---"
   ]
  },
  {
   "cell_type": "markdown",
   "metadata": {},
   "source": [
    "#### Conclusão geral\n",
    "\n",
    "Com relação aos testes realizados, não houve evidência suficiente para rejeitar a hipótese nula e a nova página não deveria ser colocada em produção. Testado por:\n",
    "\n",
    "- distribuição amostral\n",
    "\n",
    "- regressão linear\n",
    "\n",
    "#### Possíveis distorções\n",
    "\n",
    "Os testes podem ter sofrido algumas **distorções** que poderiam alterar seus resultados (efeito do tempo, efeito da novidade, etc..)\n",
    "\n",
    "Ao invés de apenas citar potenciais **distorções**, citando as da classe,  resolvi criar uma lista bastante complexa de fenômenos que poderiam gerar distorções. E algumas delas podem ser muito benéficas para nossa nova estrutura. Isso extrapola o conteúdo dos testes A/B e se baseia fortemente em estudos de **Teoria Geral de Sistemas** e em **Cibernética**. Seguem alguns deles (dos fáceis aos mais complexos para o final):\n",
    "\n",
    "\n",
    "- **grupo de usuários que realizou os testes pode não ter sido o mesmo do que o grupo de usuários que irá fazer a compra**. Às vezes empresas colocam seus próprios funcionários, professores os seus alunos e programadores, os seus amigos (também programadores) para fazer testes em páginas Web. Bom, isso não é muito confiável, pois o domínio de crenças, as esferas de valores, a capacidade econômica e outros fatores explicados pela **Teoria dos Jogos** podem explicar distorções não hora de se se simular/comprar (eu posso arriscar 1 bilhão em ações num simulador e não ter coragem de comprar um título de R$5.000,00 num banco e que envolva risco!)\n",
    "\n",
    "- **tempo do teste insuficiente** - Às vezes coisas levam um tempo para se estabilizar. Pessoas acostumadas com o antigo \"site\" se sentem constrangidas no novo (ou o contrário) e são tentadas a comprar mais, ou menos do que ao longo do tempo. As pessoas terão talvez que se acostumar com a nova plataforma\n",
    "\n",
    "- **engodo do \"estouro de vendas\"** - (um exemplo disso é o **erro da promoção**: uma loja não está vendendo bem e resolve fazer uma \"queima de estoque\". Então aparecem muitos e muitos compradores. Tudo volta a se estabilizar e as vendas com o passar dos meses, se nota que estão **abaixo** das da queima... por quê? Está todo mundo esperando o novo \"queimão\"!)\n",
    "\n",
    "- **mercadorias tendenciosas** - Eu vendia muito bem no meu antigo \"site\" um \"Eau de Parfum\" que custa 500 o frasco de 50ml. No novo \"site\" eu vendo melhor uma \"Eau de Toilette\" que custa 125 o frasco de 250ml. Só que a minha margem de lucro nas antigas vendas era consideravelmente melhor! (Às vezes estamos em um **franja de mercado** e mesmo ao custo de vender pouco, evitamos uma concorrência desnecessária com *O Boticário*, para dar um exemplo\n",
    "\n",
    "- **mudança de freguesia** - Pronto, eu peguei um público mais jovem e arrojado... isso é mal? Não necessariamente! mas é o mesmo problema do ítem **anterior** (Se eu conseguir permissão para acessar o perfil do *Facebook* do meu cliente, isso seria talvez o sonho!)\n",
    "\n",
    "- **custo da rejeição é maior do que o ganho da promoção** - Isso recentemente virou uma discussão envolvendo entre outras coisas **eleição presidencial** (não entrando no mérito, pois aqui isso é **irrelevante**!)... se a antiga estrutura me causava pouca rejeição, mas poucas vendas... a estrutura nova me causa muitas vendas mas maior rejeição... isso é uma balança **delicadíssima** e que pode me custar o meu comércio fechar as portas em um futuro próximo... altas taxas de rejeição, seja lá no que for, tendem a dar **Efeito de Memória** e criar maiores e maiores rejeições a longo prazo...\n",
    "\n",
    "- por falar em efeito de memória... vale a pena citar **Fenômeno de Aniversariamento** - Aniversariamento é um fator da memória humana muito estudado por psiquiatras e analistas do comportamento humano. Basicamente funciona assim: num país hipotético, um presidente hipotético mudou o padrão monetário para $Cruzado$ a fim de evitar inflação galopante. Junto com este pacote, que a princípio foi **bem recebido** pela população, o gentil homem teria feito um confisco de poupança hipotético, que gerou grande instatisfação e consequentemente, uma movimentação popular que o levou a perder o cargo de presidência hipotética. O que aconteceria se um novo presidente, para conter evolução inflacionária propusesse mudança no padrão monetário? Quase que certamente uma **revolta popula imediata e sem precedentes**. Qual a razão? **Fenômeno de Aniversariamento**. E isso poderia ocorrer, caso tentássemos diversos \"sites\" novos e problemáticos para nossa **Audacity**...\n",
    "\n",
    "- **Efeito Zeitgeist** (\"Espírito do Tempo\") - Era moda no entre-guerras a moda \"Prêt-a-porter\" (pronta para sair), um estilo provocante e inovador da mulher jovem dizendo: \"meus pais não me seguram mais, acabou a guerra e com ela, a tradição...\". A escola Bauhaus foi considera **socializante e escandalosa** e em 1933, foi fechada à força por uma sociedade que buscava valores mais... \"tradicionais\" na Alemanha Nazista... E hoje a maioria do nosso mobiliário possui **forte inspiração** na Bauhaus! Então nosso \"site\" pode receber mais conversões agora por \"ser vintage\" e alguns anos depois ser considerado \"boco-moco\" pela maioria dos seus usuários... mesmo sem **nenhuma** modificação!\n",
    "\n",
    "- **Efeito Repertório** - É um outro fenômeno estudado por psiquiatras e analistas de comportamento. Pessoas com uma cultura mais limitada (independendo se vieram de castas economicamente mais favorecidas, ou de regiões consideradas mais ricas de um país), quando são expostas a **situações novas** tendem a ficar sem ação, ou mesmo entrar em desespero. Suponha um exemplo de dois engenheiros. Ambos fizeram faculdade de Engenharia, se formaram e foram trabalhar. Mais tarde houve uma crise fenomenal e ambos ficaram sem emprego... o detalhe é que um deles aprendeu o ofício de **marcenaria** na sua juventude e com isso conseguiu pagar as contas fazendo banquinhos para vender na feira... um **indígena** ou um **quilombola** pode ter mais repertório do que um cidadão moderno médio e isso pode lhe dar mais chances de adaptação/sobrevivência em condições extremas... bom, se eu trabalho com um público de **pouco repertório**, qualquer mudança tenderá a ser mal vista e criticada, mesmo que seja para o bem... como saber se meu público é assim? Isso demanda análises mais apuradas e complexas...\n",
    "\n",
    "- **Efeito Aprendizado** - Ao longo do tempo, eu aprendo a corrigir e a limar meu \"site\" e a manutenção passa a custar pouco e ser mais fácil... já o meu novo \"site\" funciona mais como um **protótipo** de um avião ou de um automóvel... ele tende a me dar mais problemas, a estar com mais arestas... tudo isso desagrada o usuário... mesmo que ao final meu produto seja muito melhor!\n",
    "\n",
    "- **Efeito Vaca Sagrada** - Na Índia, as vacas eram consideradas animais sagrados. Mas um proprietário de uma empresa, ou antigos diretores com muita voz na decisão podem dizer \"Ah... isso não é negociável! Isso é **sagrado**!\". Então pronto, nós temos algumas feições do nosso projeto que são **inalteráveis** (e que podem tornar muito cara minha mudança para o novo \"site\")\n",
    "\n",
    "- **Efeito Ação Imediata** - Se percebeu que quando colocado sob pressão, o ser humano costuma a optar por ferramentas intelectuais mais primitivas e que dão respostas mais imediatas. Assim, se eu tenho que montar um caixote de madeira e tenho meu final de semana para isso, primeiro eu abro minha latinha de cerveja, separo as ferramentas (chave de fenda, furadeira, parafusos para madeira, cola...), faço as medições, desenho no papel... agora se é para um \"se vira nos 30!\", eu nem consigo pensar direito, vai ser no serrote, prego e martelo! Então, se eu induzir meu cliente a executar sua compra na tela \"promoção relâmpago: 30 segundos\", eu possivelmente acionarei partes mais primitivas do cérebro dele e ele provavelmente fará a compra... e 15 minutos depois estará me ligando para cancelar por arrependimento! Má estratégia! Se meu \"site\" novo se basear nesta ação, estarei perdido...\n",
    "\n",
    "- **Efeito em Cadeia** - Um curso leva a outro e isso leva a outro... e a um programa de fidelização... Se meu \"site\" novo refletir melhor isso, eu poderei esperar lucros maiores e seguros... num horizonte temporal maior. É difícil de modelizar isso... mas suponha que minha **Audacity** agora oferece um determinado curso hipotético chamado **Fundamentos em Data Science II** a ser feito como continuação do...\n",
    "\n",
    "- **Perfis Estratégicos** - Em **Teoria dos Jogos** temos jogadores **Aversos ao Risco**, **Neutros ao Risco**, etc.. No comércio, vendedores costumam classificar pessoas como **Apoiador**, **Meticuloso**, **Realizador** e **Expressivo**. Às vezes o novo \"site\" agrada a um desses grupos, mas causa problemas com os outros!\n",
    "\n",
    "- **Jogo do Prisioneiro** - Um clássico problema de **Teoria dos Jogos**, uma determinada pessoa, sem saber qual foi a decisão das demais, é levada a \"converter\" ou \"não converter\", segundo um cálculo de riscos e benefícios potenciais. A **Audacity** poderia usar uma estratégia deste tipo na sua nova página...\n",
    "\n",
    "- **Tac-for-Toe** ou \"jogo da manipulação\"- Analisando comportamento de pássaros, se descobriu que é muito frequente que um deles, para induzir determinado comportamento nos demais, faça uma determinada ação. Então meu novo \"site\" me \"oferece uma minhoca\", na esperança de que o cliente faça o mesmo no seu turno. É um comportamento complexo e que em alguns casos, dá muito certo (golpistas e fraudadores costumam usar com frequência desta tática, mas ela poderia ser usada para o bem).\n",
    "\n",
    "- **Efeito Titanic** - Eu já investi 100 mil na minha antiga página da **Audacity**... como eu justificarei isso para meus diretores? Não seria melhor gastar os 20 mil para deixá-la ainda melhor? Nem é necessário explicar muito, mas o **Efeito Titanic** costuma causar muitas distorções na hora de avaliar resultados **reais**, como a do desempenho da minha nova plataforma...\n",
    "\n",
    "- **Efeito de Clã** - Eu uso um jargã próprio (como num grupo hipotético de Twitter envolvendo **Floofer**, **Doggo**...) e com isso eu atraio apenas pessoas do meu próprio clã. Isso pode ser bom ou muito **prejudicial** (o que normalmente é) nas feições do meu novo \"site\"...\n",
    "\n",
    "- **Efeito Iniciático** - O meu aluno do meu novo \"site\" é compelido a se sentir um \"iniciado\", com provas de iniciação e tudo mais na minha nova estrutura... e ele é compelido a comprar novos produtos, cada vez mais complexos e caros... (isso parece extremamente **maléfico**, mas nem sempre! - às vezes a sociedade acaba reconhecendo o aluno da **Audacity** como um cara valoroso para se ter numa empresa e os ganhos individuais podem superar e muito o valor investodo...)\n",
    "\n",
    "- **Efeito Moby Dick** - Inspirado no romance de Herman Melville, um indivíduo (o capitão Ahrab) se torna, após um trauma (perda de uma perna), tão obstinado a eliminar um determinado cachalote (Moby Dick) que acaba levando seu navio e tripulaão ao desastre. Em alguns casos, o meu \"site\" pode resultar em ações muito diversas do esperado, ao expor seus integrantes a situações traumáticas (como um hipotético curso imenso de **Data Science 2** e que parece não ter mais fim!)\n",
    "\n",
    "- **Efeito Dominó** - Minha nova página altamente promocional, oferecendo aquele curso dos sonhos por \"apenas R$5,00\" fez com que a *Udemy*, a *Udacity*, meus concorrentes, a fazerem o mesmo. Resultado: um leilão de cursos baixos que fará todo mundo perder dinheiro (e os mais fracos a falirem). Os pontos de equilíbrio de **Nash**, em **Teoria dos Jogos** ajudam a descrever este e outros efeitos de grupo e que podem ter resultados terríveis.\n",
    "\n",
    "- **Hipnose** - Não se sabe exatamente como ela funciona. Aparentemente algumas pessoas já são **sugestionáveis** para tomar determinado tipo de ação. Foram feitos testes exaustivos neste tema nos anos 60 e 70 e nunca se chegou a uma conclusão clara (pessoas fortemente hipnotizadas foram apresentadas a um copo de água comum, que lhes afirmaram conter um ácido terrível. Elas agiram de maneira compatível à sugestão e quando pedidas a **arremessar o ácido** ao rosto de outra pessoa, elas o faziam com facilidade. No entanto, quando aparecia uma pessoa com luvas e máscara e enchia com cautela um segundo copo de solução salina parecida com ácido de verdade, o que ocorria era invariavelmente a pessoa sair do **transe hipnótico**). Explorar estes efeitos num site da **Audacity**? Isso poderia custar **boas risadas** ou um enorme **processo judicial**. É anti-ético manipular pessoas! (embora diversas seitas façam isso a todo momento!).\n",
    "\n",
    "- **Teoria da Guerra** - Um dos campos pouco estudados na Teoria dos Jogos. Mas o importante ao final é **ganhar todas as batalhas**, **subjugar e humilhar o oponente**, **não sofrer muitos danos** ou **estabelecer a paz a qualquer preço**? Ao criar uma nova plataforma em um mercado competitivo, a nossa **Audacity** terá que lidar com todos esses dilemas. E isso não é explicado por um simples **Teste de Hipóteses**... \n",
    "\n",
    "*(Tirado a grosso modo dos meus estudos em Sistêmica, na leitura da \"Enciclopédia Internacional de Cibernética e Sistêmica\", de Charles François, 2 vols.)*\n",
    "\n",
    "Tudo isso deveria ser levado em consideraçõa ao fazer testes para novos produtos... ou para validar nossas hipóteses A/B"
   ]
  },
  {
   "cell_type": "code",
   "execution_count": null,
   "metadata": {},
   "outputs": [],
   "source": []
  }
 ],
 "metadata": {
  "kernelspec": {
   "display_name": "Python 3",
   "language": "python",
   "name": "python3"
  },
  "language_info": {
   "codemirror_mode": {
    "name": "ipython",
    "version": 3
   },
   "file_extension": ".py",
   "mimetype": "text/x-python",
   "name": "python",
   "nbconvert_exporter": "python",
   "pygments_lexer": "ipython3",
   "version": "3.6.8"
  }
 },
 "nbformat": 4,
 "nbformat_minor": 2
}
