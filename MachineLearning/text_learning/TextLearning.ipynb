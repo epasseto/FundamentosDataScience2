{
 "cells": [
  {
   "cell_type": "markdown",
   "metadata": {},
   "source": [
    "## Text Learning\n",
    "\n",
    "---\n",
    "\n",
    "Uso o problema de identificar os mails da Cris e da Sara:\n",
    "\n",
    "- **parseOutText()** function, which accepts an opened email as an argument and returns a string containing all the (stemmed) words in the email\n",
    "\n",
    "---\n",
    "\n",
    "Process the emails from Sara and Chris to extract the features and get the documents ready for classification\n",
    "\n",
    "The list of all the emails from Sara are in the from_sara list likewise for emails from Chris (from_chris)\n",
    "\n",
    "The actual documents are in the Enron email dataset, which you downloaded/unpacked in Part 0 of the first mini-project\n",
    "\n",
    "The data is stored in lists and packed away in pickle files at the end"
   ]
  },
  {
   "cell_type": "markdown",
   "metadata": {},
   "source": [
    "O Stemmer:"
   ]
  },
  {
   "cell_type": "code",
   "execution_count": 8,
   "metadata": {},
   "outputs": [],
   "source": [
    "from nltk.stem.snowball import SnowballStemmer\n",
    "\n",
    "stemmer = SnowballStemmer(\"english\")"
   ]
  },
  {
   "cell_type": "markdown",
   "metadata": {},
   "source": [
    "O Corpus do NLTK:"
   ]
  },
  {
   "cell_type": "code",
   "execution_count": 11,
   "metadata": {},
   "outputs": [
    {
     "name": "stdout",
     "output_type": "stream",
     "text": [
      "showing info https://raw.githubusercontent.com/nltk/nltk_data/gh-pages/index.xml\n"
     ]
    },
    {
     "data": {
      "text/plain": [
       "True"
      ]
     },
     "execution_count": 11,
     "metadata": {},
     "output_type": "execute_result"
    }
   ],
   "source": [
    "import nltk\n",
    "\n",
    "#nltk.download('all', halt_on_error=False)\n",
    "\n",
    "nltk.download()"
   ]
  },
  {
   "cell_type": "markdown",
   "metadata": {},
   "source": [
    "---\n",
    "\n",
    "#### Primeira versão"
   ]
  },
  {
   "cell_type": "code",
   "execution_count": 1,
   "metadata": {},
   "outputs": [],
   "source": [
    "import os\n",
    "import pickle\n",
    "import re"
   ]
  },
  {
   "cell_type": "code",
   "execution_count": 2,
   "metadata": {},
   "outputs": [
    {
     "ename": "SyntaxError",
     "evalue": "Missing parentheses in call to 'print'. Did you mean print(text)? (parse_out_email_text.py, line 48)",
     "output_type": "error",
     "traceback": [
      "Traceback \u001b[1;36m(most recent call last)\u001b[0m:\n",
      "  File \u001b[0;32m\"C:\\ProgramData\\Anaconda3\\lib\\site-packages\\IPython\\core\\interactiveshell.py\"\u001b[0m, line \u001b[0;32m3291\u001b[0m, in \u001b[0;35mrun_code\u001b[0m\n    exec(code_obj, self.user_global_ns, self.user_ns)\n",
      "\u001b[1;36m  File \u001b[1;32m\"<ipython-input-2-b1ef50689c15>\"\u001b[1;36m, line \u001b[1;32m4\u001b[1;36m, in \u001b[1;35m<module>\u001b[1;36m\u001b[0m\n\u001b[1;33m    from parse_out_email_text import parseOutText\u001b[0m\n",
      "\u001b[1;36m  File \u001b[1;32m\"c:/pyprog/udamini/tools\\parse_out_email_text.py\"\u001b[1;36m, line \u001b[1;32m48\u001b[0m\n\u001b[1;33m    print text\u001b[0m\n\u001b[1;37m             ^\u001b[0m\n\u001b[1;31mSyntaxError\u001b[0m\u001b[1;31m:\u001b[0m Missing parentheses in call to 'print'. Did you mean print(text)?\n"
     ]
    }
   ],
   "source": [
    "import sys\n",
    "\n",
    "sys.path.append( \"c:/pyprog/udamini/tools/\" )\n",
    "from parse_out_email_text import parseOutText"
   ]
  },
  {
   "cell_type": "code",
   "execution_count": 10,
   "metadata": {},
   "outputs": [],
   "source": [
    "from_sara  = open(\"from_sara.txt\", \"r\")\n",
    "from_chris = open(\"from_chris.txt\", \"r\")\n",
    "\n",
    "from_data = []\n",
    "word_data = []"
   ]
  },
  {
   "cell_type": "markdown",
   "metadata": {},
   "source": [
    "Temp_counter is a way to speed up the development - there are thousands of emails from Sara and Chris, so running over all of them can take a long time temp_counter helps you only look at the first 200 emails in the list so you can iterate your modifications quicker"
   ]
  },
  {
   "cell_type": "code",
   "execution_count": 11,
   "metadata": {},
   "outputs": [
    {
     "name": "stdout",
     "output_type": "stream",
     "text": [
      "emails processed\n",
      " tjonesnsf\n",
      "\n",
      "Stephanie and Sam need NYMEX calendars\n"
     ]
    }
   ],
   "source": [
    "temp_counter = 0\n",
    "\n",
    "for name, from_person in [(\"sara\", from_sara), (\"chris\", from_chris)]:\n",
    "    for path in from_person:\n",
    "        ### only look at first 200 emails when developing\n",
    "        ### once everything is working, remove this line to run over full dataset\n",
    "#         temp_counter += 1\n",
    "#         if temp_counter < 200:\n",
    "        path = \"../\"+path[:-1]\n",
    "        #print path\n",
    "        email = open(path, \"r\")\n",
    "        ### use parseOutText to extract the text from the opened email\n",
    "        words = parseOutText(email)\n",
    "        ### use str.replace() to remove any instances of the words\n",
    "        #last two words are the outliers to get rid of in next lesson, feature-selection.\n",
    "        #I'm adding this from the next lesson, the future. Whaaaa?\n",
    "        list_rep  = [\"sara\", \"shackleton\", \"chris\", \"germani\",\"sshacklensf\",\"cgermannsf\"]\n",
    "        for e in list_rep:\n",
    "            words = words.replace(e,\"\")\n",
    "        ### append the text to word_data\n",
    "        word_data.append(words)\n",
    "        ### append a 0 to from_data if email is from Sara, and 1 if email is from Chris\n",
    "        from_data.append(0 if name == \"sara\" else 1)\n",
    "\n",
    "        email.close()\n",
    "\n",
    "print \"emails processed\"\n",
    "from_sara.close()\n",
    "from_chris.close()\n",
    "\n",
    "pickle.dump(word_data, open(\"your_word_data.pkl\", \"w\"))\n",
    "pickle.dump(from_data, open(\"your_email_authors.pkl\", \"w\"))\n",
    "\n",
    "print word_data[152]"
   ]
  },
  {
   "cell_type": "markdown",
   "metadata": {},
   "source": [
    "emails processed\n",
    " tjonesnsf\n",
    "\n",
    "Stephanie and Sam need NYMEX calendars"
   ]
  },
  {
   "cell_type": "markdown",
   "metadata": {},
   "source": [
    "---\n",
    "\n",
    "#### Segunda versão\n",
    "\n",
    "Primeiro desafio: a frase - encontrado [aqui](http://adamleo.co/Learning_Machine_Learning/Udacity_-_Intro_to_Machine_Learning/Lesson_10-Text_Learning.html)\n",
    "\n",
    "- é necessário mexer na própria função **parseOutText()**\n",
    "\n",
    "- o nosso arquivo de teste está no mesmo subdiretório deste miniproject!\n",
    "\n",
    "---\n",
    "    \n",
    "Go to the tools directory and run parse_out_email_text.py, which contains **parseOutText()** and a test email to run this function over\n",
    "\n",
    "**parseOutText()** takes the opened email and returns only the text part, stripping away any metadata that may occur at the beginning of the email, so what's left is the text of the message\n",
    "\n",
    "We currently have this script set up so that it will print the text of the email to the screen, what is the text that you get when you run **parseOutText()**?"
   ]
  },
  {
   "cell_type": "code",
   "execution_count": null,
   "metadata": {},
   "outputs": [],
   "source": [
    "from nltk.stem.snowball import SnowballStemmer\n",
    "import string\n",
    "\n",
    "file_location = \"c:/pyprog/udamini/text_learning/\""
   ]
  },
  {
   "cell_type": "markdown",
   "metadata": {},
   "source": [
    "**ParseOutText()** takes the opened email and returns only the text part, stripping away any metadata that may occur at the beginning of the email, so what's left is the text of the message"
   ]
  },
  {
   "cell_type": "code",
   "execution_count": 24,
   "metadata": {},
   "outputs": [],
   "source": [
    "def parseOutTextFromEmailFile(f):\n",
    "    \"\"\"\n",
    "    given an opened email file f, parse out all text below the metadata block at the top\n",
    "    (in Part 2, you will also add stemming capabilities)\n",
    "    and return a string that contains all the words in the email (space-separated) \n",
    "\n",
    "    example use case:\n",
    "    f = open(\"email_file_name.txt\", \"r\")\n",
    "    text = parseOutText(f)\n",
    "    \"\"\"\n",
    "    f.seek(0)  ### go back to beginning of file (annoying)\n",
    "    all_text = f.read()\n",
    "    ### split off metadata\n",
    "    content = all_text.split(\"X-FileName:\")\n",
    "    words = \"\"\n",
    "    if len(content) > 1:\n",
    "        print(content)\n",
    "        ### remove punctuation\n",
    "        text_string = content[1].translate(string.maketrans('', ''), string.punctuation)\n",
    "        words = text_string\n",
    "    return words"
   ]
  },
  {
   "cell_type": "code",
   "execution_count": 25,
   "metadata": {},
   "outputs": [
    {
     "name": "stdout",
     "output_type": "stream",
     "text": [
      "['To: Katie_and_Sebastians_Excellent_Students@udacity.com\\nFrom: katie@udacity.com\\n', \"\\n\\nHi Everyone!  If you can read this message, you're properly using parseOutText.  Please proceed to the next part of the project!\\n\"]\n",
      "\n",
      "\n",
      "Hi Everyone  If you can read this message youre properly using parseOutText  Please proceed to the next part of the project\n",
      "\n"
     ]
    }
   ],
   "source": [
    "ff = open(file_location + \"test_email.txt\", \"r\")\n",
    "text = parseOutTextFromEmailFile(ff)\n",
    "print (text)"
   ]
  },
  {
   "cell_type": "markdown",
   "metadata": {},
   "source": [
    "---\n",
    "\n",
    "Segundo desafio: melhorar a função\n",
    "\n",
    "---\n",
    "\n",
    "In **parseOutText()**, comment out the following line: \n",
    "\n",
    "        words = text_string \n",
    "\n",
    "Augment **parseOutText()** so that the string it returns has all the words stemmed using a SnowballStemmer (use the nltk package, some examples that I found helpful can be found here: http://www.nltk.org/howto/stem.html)\n",
    "\n",
    "Rerun **parse_out_email_text.py**, which will use your updated **parseOutText()** function--what’s your output now?\n",
    "\n",
    "Hint: you'll need to break the string down into individual words, stem each word, then recombine all the words into one string"
   ]
  },
  {
   "cell_type": "code",
   "execution_count": 26,
   "metadata": {},
   "outputs": [],
   "source": [
    "from nltk.stem.snowball import SnowballStemmer"
   ]
  },
  {
   "cell_type": "code",
   "execution_count": 29,
   "metadata": {},
   "outputs": [],
   "source": [
    "def parseOutTextFromEmailFile(f):\n",
    "    '''\n",
    "    Input: a file containing text\n",
    "    \n",
    "    Output: the stemmed words in the input text, all separated by a single space\n",
    "    '''\n",
    "    f.seek(0)  ### go back to beginning of file (annoying)\n",
    "    all_text = f.read()\n",
    "    ### split off metadata\n",
    "    content = all_text.split(\"X-FileName:\")\n",
    "    # the stemmer\n",
    "    stemmer = SnowballStemmer('english')\n",
    "    # the string of words\n",
    "    words = \"\"\n",
    "    if len(content) > 1:\n",
    "        #print(content)\n",
    "        ### remove punctuation\n",
    "        text_string = content[1].translate(string.maketrans('', ''), string.punctuation)\n",
    "        ### split the text string into individual words, stem each word,\n",
    "        ### and append the stemmed word to words (make sure there's a single\n",
    "        ### space between each stemmed word)\n",
    "        for word in text_string.split():\n",
    "            # stem the word and add it to words\n",
    "            words += stemmer.stem(word) + ' '       \n",
    "    return words[:-1]"
   ]
  },
  {
   "cell_type": "code",
   "execution_count": 30,
   "metadata": {},
   "outputs": [
    {
     "name": "stdout",
     "output_type": "stream",
     "text": [
      "['To: Katie_and_Sebastians_Excellent_Students@udacity.com\\nFrom: katie@udacity.com\\n', \"\\n\\nHi Everyone!  If you can read this message, you're properly using parseOutText.  Please proceed to the next part of the project!\\n\"]\n",
      "hi everyon if you can read this messag your proper use parseouttext pleas proceed to the next part of the project\n"
     ]
    }
   ],
   "source": [
    "ff = open(file_location + \"test_email.txt\", \"r\")\n",
    "text = parseOutTextFromEmailFile(ff)\n",
    "print(text)"
   ]
  },
  {
   "cell_type": "markdown",
   "metadata": {},
   "source": [
    "Terceiro desafio: operação sobre todos os e-mails\n",
    "\n",
    "---\n",
    "\n",
    "In **vectorize_text.py**, you will iterate through all the emails from Chris and from Sara. For each email, feed the opened email to **parseOutText()** and return the stemmed text string. Then do two things:\n",
    "\n",
    "- remove signature words (“sara”, “shackleton”, “chris”, “germani” - bonus points if you can figure out why it's \"germani\" and not \"germany\")\n",
    "\n",
    "- append the updated text string to word_data -- if the email is from Sara, append 0 (zero) to from_data, or append a 1 if Chris wrote the email\n",
    "\n",
    "Once this step is complete, you should have two lists:\n",
    "\n",
    "- one contains the stemmed text of each email, and the second should contain the labels that encode (via a 0 or 1) who the author of that email is\n",
    "\n",
    "Running over all the emails can take a little while (5 minutes or more), so we've added a **temp_counter** to cut things off after the first 200 emails. Of course, once everything is working, you'd want to run over the full dataset\n",
    "\n",
    "In the box below, put the string that you get for **word_data[152]**"
   ]
  },
  {
   "cell_type": "code",
   "execution_count": 35,
   "metadata": {},
   "outputs": [],
   "source": [
    "import os\n",
    "import sys\n",
    "import pickle"
   ]
  },
  {
   "cell_type": "markdown",
   "metadata": {},
   "source": [
    "Para chamar:\n",
    "\n",
    "    sys.path.append( \"c:/pyprog/udamini/tools/\" )\n",
    "    \n",
    "    from parse_out_email_text import parseOutTextFromEmailFile\n",
    "    \n",
    "    ---\n",
    "    \n",
    "Code to process the emails from Sara and Chris to extract the features and get the documents ready for classification\n",
    "\n",
    "The list of all the emails from Sara are in the from_sara list likewise for emails from Chris (from_chris)\n",
    "\n",
    "The actual documents are in the Enron email dataset, which you downloaded/unpacked in Part 0 of the first mini-project. If you have not obtained the Enron email corpus, run **startup.py** in the tools folder\n",
    "\n",
    "The data is stored in lists and packed away in pickle files at the end"
   ]
  },
  {
   "cell_type": "code",
   "execution_count": 38,
   "metadata": {},
   "outputs": [],
   "source": [
    "from_sara  = open(file_location + \"from_sara.txt\", \"r\")\n",
    "from_chris = open(file_location + \"from_chris.txt\", \"r\")\n",
    "\n",
    "from_data = []\n",
    "word_data = []"
   ]
  },
  {
   "cell_type": "code",
   "execution_count": null,
   "metadata": {},
   "outputs": [],
   "source": [
    "temp_counter = 0\n",
    "for name, from_person in [(\"sara\", from_sara), (\"chris\", from_chris)]:\n",
    "    for path in from_person:\n",
    "        if temp_counter < 200:\n",
    "            path = os.path.join('..', path[:-1])\n",
    "            with open(path, 'r') as email:\n",
    "                ### use parseOutText to extract the text from the opened email\n",
    "                text = parseOutTextFromEmailFile(email)\n",
    "                ### use str.replace() to remove any instances of the words\n",
    "                ### [\"sara\", \"shackleton\", \"chris\", \"germani\"]\n",
    "                replaceWords = [\"sara\", \"shackleton\", \"chris\", \"germani\"]\n",
    "                for w in replaceWords:\n",
    "                    text = text.replace(w, \"\")\n",
    "                ### append the text to word_data\n",
    "                word_data.append(text.replace('\\n',' ').strip())\n",
    "                ### append a 0 to from_data if email is from Sara, and 1 if email is from Chris\n",
    "                from_data.append(0 if name == \"sara\" else 1)\n",
    "print (\"emails processed\")\n",
    "# pickle.dump( word_data, open(\"your_word_data.pkl\", \"wb\") )\n",
    "# pickle.dump( from_data, open(\"your_email_authors.pkl\", \"wb\") )\n",
    "print(\"the word at 152 is:\", word_data[152])"
   ]
  },
  {
   "cell_type": "markdown",
   "metadata": {},
   "source": [
    "---\n",
    "\n",
    "Transform the word_data into a tf-idf matrix using the sklearn TfIdf transformation. Remove english stopwords\n",
    "\n",
    "You can access the mapping between words and feature numbers using get_feature_names(), which returns a list of all the words in the vocabulary. How many different words are there?\n",
    "\n",
    "- be sure to use the tf-idf Vectorizer class to transform the word data\n",
    "\n",
    "- don't forget to remove english stop words when you set up the vectorizer, using sklearn's stop word list (not NLTK)"
   ]
  },
  {
   "cell_type": "code",
   "execution_count": null,
   "metadata": {},
   "outputs": [],
   "source": [
    "import os\n",
    "import pickle\n",
    "import re\n",
    "import sys\n",
    "\n",
    "sys.path.append( \"../tools/\" )\n",
    "from parse_out_email_text import parseOutText"
   ]
  },
  {
   "cell_type": "code",
   "execution_count": 45,
   "metadata": {},
   "outputs": [],
   "source": [
    "pickle.dump(word_data, open(\"your_word_data.pkl\", \"w\"))\n",
    "pickle.dump(from_data, open(\"your_email_authors.pkl\", \"w\"))"
   ]
  },
  {
   "cell_type": "code",
   "execution_count": 54,
   "metadata": {},
   "outputs": [],
   "source": [
    "from_sara  = open(\"from_sara.txt\", \"r\")\n",
    "from_chris = open(\"from_chris.txt\", \"r\")\n",
    "\n",
    "from_data = []\n",
    "word_data = []"
   ]
  },
  {
   "cell_type": "code",
   "execution_count": null,
   "metadata": {},
   "outputs": [],
   "source": [
    "temp_counter = 0\n",
    "\n",
    "for name, from_person in [(\"sara\", from_sara), (\"chris\", from_chris)]:\n",
    "    for path in from_person:\n",
    "        ### only look at first 200 emails when developing once everything is working,\n",
    "        ### remove this line to run over full dataset\n",
    "        #temp_counter += 1\n",
    "        if temp_counter < 200:\n",
    "            path = os.path.join('..', path[:-1])\n",
    "            email = open(path, \"r\")\n",
    "            ### use parseOutText to extract the text from the opened email\n",
    "            text = parseOutTextFromEmailFile(email)\n",
    "            ### use str.replace() to remove any instances of the words\n",
    "            ### [\"sara\", \"shackleton\", \"chris\", \"germani\"]\n",
    "            replaceWords = [\"sara\", \"shackleton\", \"chris\", \"germani\"]\n",
    "            for w in replaceWords:\n",
    "                text = text.replace(w, \"\")\n",
    "            ### append the text to word_data\n",
    "            word_data.append(text.replace('\\n',' ').strip())\n",
    "            ### append a 0 to from_data if email is from Sara, and 1 if email is from Chris\n",
    "            from_data.append(0 if name == \"sara\" else 1)\n",
    "            email.close()\n",
    "\n",
    "print \"emails processed\"\n",
    "from_sara.close()\n",
    "from_chris.close()\n",
    "\n",
    "###salvando suas aquisições - será útil no próximo mini project!\n",
    "pickle.dump(word_data, open(\"your_word_data.pkl\", \"w\"))\n",
    "pickle.dump(from_data, open(\"your_email_authors.pkl\", \"w\"))"
   ]
  },
  {
   "cell_type": "code",
   "execution_count": 56,
   "metadata": {},
   "outputs": [],
   "source": [
    "from sklearn.feature_extraction.text import TfidfTransformer, CountVectorizer, TfidfVectorizer"
   ]
  },
  {
   "cell_type": "code",
   "execution_count": 57,
   "metadata": {},
   "outputs": [],
   "source": [
    "vectorizer = TfidfVectorizer(stop_words=\"english\")\n",
    "X = vectorizer.fit_transform(word_data)\n",
    "transformer = TfidfTransformer()\n",
    "tfidf = transformer.fit_transform(X)\n",
    "vector = vectorizer.get_feature_names()"
   ]
  },
  {
   "cell_type": "markdown",
   "metadata": {},
   "source": [
    "How many unique words are there in your Tfldf? 38757"
   ]
  },
  {
   "cell_type": "code",
   "execution_count": 58,
   "metadata": {},
   "outputs": [
    {
     "name": "stdout",
     "output_type": "stream",
     "text": [
      "38757\n"
     ]
    }
   ],
   "source": [
    "print(len(vector))"
   ]
  },
  {
   "cell_type": "markdown",
   "metadata": {},
   "source": [
    "What is word number 34597 in your TfIdf? plead"
   ]
  },
  {
   "cell_type": "code",
   "execution_count": 59,
   "metadata": {},
   "outputs": [
    {
     "name": "stdout",
     "output_type": "stream",
     "text": [
      "stephaniethank\n"
     ]
    }
   ],
   "source": [
    "print(vector[34597])"
   ]
  },
  {
   "cell_type": "markdown",
   "metadata": {},
   "source": [
    "---\n",
    "\n",
    "Outras coisas legais sobre o tema [aqui](http://adamleo.co/Learning_Machine_Learning/Udacity_-_Intro_to_Machine_Learning/Lesson_10-Text_Learning.html)\n",
    "\n",
    "#### Bag of Words"
   ]
  },
  {
   "cell_type": "code",
   "execution_count": null,
   "metadata": {},
   "outputs": [],
   "source": [
    "from sklearn.feature_extraction.text import CountVectorizer\n",
    "\n",
    "vectorizer = CountVectorizer()\n",
    "\n",
    "string1 = \"hi Katie the self driving car will be late Best Sebastian\"\n",
    "string2 = \"Hi Sebastian the machine learning class will be great great great Best Katie\"\n",
    "string3 = \"Hi Katie the machine learning class will be most excellent\"\n",
    "\n",
    "email_list = [string1, string2, string3]\n",
    "\n",
    "# figuring out what are the words in the corpus in the emails\n",
    "bag_of_words = vectorizer.fit(email_list)\n",
    "bag_of_words = vectorizer.transform(email_list)\n",
    "print(bag_of_words)\n",
    "\n",
    "print(vectorizer.vocabulary_.get(\"great\"))"
   ]
  },
  {
   "cell_type": "markdown",
   "metadata": {},
   "source": [
    "#### Getting Stopwords from NLTK"
   ]
  },
  {
   "cell_type": "code",
   "execution_count": null,
   "metadata": {},
   "outputs": [],
   "source": [
    "from nltk.corpus import stopwords\n",
    "sw = stopwords.words(\"english\")\n",
    "print('Number of stopwords: {0}'.format(len(sw)))\n",
    "print(\"the stopwords are:\\n\", sw)"
   ]
  },
  {
   "cell_type": "markdown",
   "metadata": {},
   "source": [
    "#### Stemming with NLTK"
   ]
  },
  {
   "cell_type": "code",
   "execution_count": null,
   "metadata": {},
   "outputs": [],
   "source": [
    "from nltk.stem.snowball import SnowballStemmer\n",
    "stemmer = SnowballStemmer(\"english\")\n",
    "\n",
    "print(stemmer.stem(\"responsiveness\"))\n",
    "print(stemmer.stem(\"responsivity\"))\n",
    "print(stemmer.stem(\"unresponsive\"))"
   ]
  }
 ],
 "metadata": {
  "kernelspec": {
   "display_name": "Python 3",
   "language": "python",
   "name": "python3"
  },
  "language_info": {
   "codemirror_mode": {
    "name": "ipython",
    "version": 3
   },
   "file_extension": ".py",
   "mimetype": "text/x-python",
   "name": "python",
   "nbconvert_exporter": "python",
   "pygments_lexer": "ipython3",
   "version": "3.6.8"
  }
 },
 "nbformat": 4,
 "nbformat_minor": 2
}
