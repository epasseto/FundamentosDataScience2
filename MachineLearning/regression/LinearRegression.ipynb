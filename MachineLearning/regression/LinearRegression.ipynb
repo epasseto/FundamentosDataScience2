{
 "cells": [
  {
   "cell_type": "markdown",
   "metadata": {},
   "source": [
    "## Linear Regression\n",
    "\n",
    "---\n"
   ]
  },
  {
   "cell_type": "code",
   "execution_count": 17,
   "metadata": {},
   "outputs": [],
   "source": [
    "from os import sys\n",
    "\n",
    "sys.path.append(\".../udamini/tools/\")"
   ]
  },
  {
   "cell_type": "markdown",
   "metadata": {},
   "source": [
    "Starter code for the regression mini-project.\n",
    "\n",
    "Loads up/formats a modified version of the dataset\n",
    "\n",
    "- why modified?  we've removed some trouble points that you'll find yourself in the outliers mini-project\n",
    "\n",
    "- Draws a little scatterplot of the training/testing data\n",
    "\n",
    "- You fill in the regression code where indicated:"
   ]
  },
  {
   "cell_type": "code",
   "execution_count": 18,
   "metadata": {},
   "outputs": [],
   "source": [
    "import sys\n",
    "import pickle\n",
    "sys.path.append(\"c:/pyprog/udamini/tools/\")\n",
    "from feature_format import featureFormat, targetFeatureSplit\n",
    "dictionary = pickle.load( open(\"c:/pyprog/udamini/final_project/final_project_dataset_modified.pkl\", \"r\") )"
   ]
  },
  {
   "cell_type": "markdown",
   "metadata": {},
   "source": [
    "List the features you want to look at\n",
    "\n",
    "- the **input** feature $\\rightarrow$ **salary**\n",
    " \n",
    " - will be the **second** item in the list\n",
    "\n",
    "- the **target** feature $\\rightarrow$ **bonus**\n",
    " \n",
    " - will be the **first** item in the list\n",
    " \n",
    "*eu quero entrar **salário** para ver se eu encontro **bônus**!*\n",
    "\n",
    "Na verdade, eu rodo toda a regressão duas vezes:\n",
    "\n",
    " - uma **salário** vs **bônus** e meus dados da regressão não são tão favoráveis assim\n",
    " \n",
    " - a segunda, **long term incentive** vs **bônus** e eu percebo que minha regressão se encaixa melhor!\n",
    " \n",
    "*basta setar a linha comentada e rodar tudo de novo para verificar*"
   ]
  },
  {
   "cell_type": "code",
   "execution_count": 38,
   "metadata": {},
   "outputs": [
    {
     "name": "stdout",
     "output_type": "stream",
     "text": [
      "['bonus', 'salary']\n"
     ]
    }
   ],
   "source": [
    "features_list = [\"bonus\", \"salary\"]\n",
    "#features_list = [\"bonus\", \"long_term_incentive\"]\n",
    "print (features_list)\n",
    "data = featureFormat(dictionary, features_list, remove_any_zeroes=True)\n",
    "#print (data)\n",
    "target, features = targetFeatureSplit(data)"
   ]
  },
  {
   "cell_type": "markdown",
   "metadata": {},
   "source": [
    "Training-testing split needed in regression, just like classification "
   ]
  },
  {
   "cell_type": "code",
   "execution_count": 39,
   "metadata": {},
   "outputs": [],
   "source": [
    "#from sklearn.cross_validation import train_test_split\n",
    "from sklearn.model_selection import train_test_split\n",
    "\n",
    "feature_train, feature_test, target_train, target_test = train_test_split(features, target, test_size=0.5, random_state=42)\n",
    "train_color = \"r\"\n",
    "test_color = \"b\""
   ]
  },
  {
   "cell_type": "markdown",
   "metadata": {},
   "source": [
    "Your regression goes here!\n",
    "\n",
    "Please name it reg, so that the plotting code below picks it up and plots it correctly. Don't forget to change the test_color above from \"b\" to \"r\" to differentiate training points from test points."
   ]
  },
  {
   "cell_type": "code",
   "execution_count": 40,
   "metadata": {},
   "outputs": [],
   "source": [
    "from sklearn.linear_model import LinearRegression"
   ]
  },
  {
   "cell_type": "code",
   "execution_count": 41,
   "metadata": {},
   "outputs": [
    {
     "name": "stdout",
     "output_type": "stream",
     "text": [
      "Slope: [5.44814029]\n",
      "Intercept: -102360.54329387983\n",
      "Score Training: 0.04550919269952436\n",
      "Score Testing: -1.48499241736851\n"
     ]
    }
   ],
   "source": [
    "reg = LinearRegression()\n",
    "\n",
    "reg.fit(feature_train,target_train)\n",
    "print \"Slope:\", reg.coef_\n",
    "print \"Intercept:\", reg.intercept_\n",
    "print \"Score Training:\", reg.score(feature_train, target_train)\n",
    "print \"Score Testing:\", reg.score(feature_test, target_test)"
   ]
  },
  {
   "cell_type": "markdown",
   "metadata": {},
   "source": [
    "Draw the scatterplot, with color-coded training and testing points"
   ]
  },
  {
   "cell_type": "code",
   "execution_count": 42,
   "metadata": {},
   "outputs": [],
   "source": [
    "import matplotlib.pyplot as plt"
   ]
  },
  {
   "cell_type": "code",
   "execution_count": 44,
   "metadata": {},
   "outputs": [
    {
     "name": "stdout",
     "output_type": "stream",
     "text": [
      "Slope: [2.27410114]\n",
      "Intercept: 124444.38886605436\n"
     ]
    },
    {
     "data": {
      "image/png": "[encoded data removed]",
      "text/plain": [
       "<Figure size 432x288 with 1 Axes>"
      ]
     },
     "metadata": {
      "needs_background": "light"
     },
     "output_type": "display_data"
    }
   ],
   "source": [
    "for feature, target in zip(feature_test, target_test):\n",
    "    plt.scatter( feature, target, color=test_color ) \n",
    "for feature, target in zip(feature_train, target_train):\n",
    "    plt.scatter( feature, target, color=train_color ) \n",
    "\n",
    "### labels for the legend\n",
    "plt.scatter(feature_test[0], target_test[0], color=test_color, label=\"test\")\n",
    "plt.scatter(feature_test[0], target_test[0], color=train_color, label=\"train\")\n",
    "\n",
    "### draw the regression line, once it's coded\n",
    "try:\n",
    "    plt.plot( feature_test, reg.predict(feature_test) )\n",
    "except NameError:\n",
    "    pass\n",
    "\n",
    "### essas duas linhas extras removem os outliers (para resolver a última questão!)\n",
    "#reg.fit(feature_test, target_test)\n",
    "#plt.plot(feature_train, reg.predict(feature_train), color=\"b\")\n",
    "#print \"Slope:\", reg.coef_\n",
    "#print \"Intercept:\", reg.intercept_\n",
    "    \n",
    "plt.xlabel(features_list[1])\n",
    "plt.ylabel(features_list[0])\n",
    "plt.legend()\n",
    "plt.show()"
   ]
  },
  {
   "cell_type": "markdown",
   "metadata": {},
   "source": [
    "---\n",
    "\n",
    "A python dictionary can’t be read directly into an sklearn **classification** or **regression** algorithm\n",
    "\n",
    "- instead, it needs a numpy array or a list of lists\n",
    "\n",
    " - each element of the list (itself a list) is a data point, and\n",
    " \n",
    " - the elements of the smaller list are the features of that point\n",
    "\n",
    "We’ve written some helper functions in tools/feature_format.py that can\n",
    "\n",
    "- take a list of feature names and the data dictionary\n",
    "\n",
    "- return a numpy array\n",
    "\n",
    " - **featureFormat()**\n",
    "\n",
    " - **targetFeatureSplit()**\n",
    "\n",
    "In the case when a feature does not have a value for a particular person\n",
    "\n",
    " - this function will also **replace** the feature value with 0 (zero)"
   ]
  },
  {
   "cell_type": "markdown",
   "metadata": {},
   "source": [
    "---\n",
    "\n",
    "In regression, you need training and testing data, just like in classification. This has already been set up in the starter code. Change the value of test_color from \"b\" to “r” (for “red”), and rerun\n",
    "\n",
    "*Note: For those students converting Python 2 code to Python 3, see below for some important remarks regarding compatibility*\n",
    "\n",
    "You will be fitting your regression using the blue (training) points only. (You may have noticed that instead of the standard 10%, we’ve put 50% of our data into the test set--that’s because in Part 5, we will switch the training and testing datasets around and splitting the data evenly makes this more straightforward)\n",
    "\n",
    "From Python 3.3 forward, a change to the order in which dictionary keys are processed was made such that the orders are randomized each time the code is run. This will cause some compatibility problems with the graders and project code, which were run under Python 2.7. To correct for this, add the following argument to the featureFormat call on line 26 of **finance_regression.py**:\n",
    "\n",
    "        sort_keys = '../tools/python2_lesson06_keys.pkl'\n",
    "\n",
    "This will open up a file in the tools folder with the Python 2 key order"
   ]
  },
  {
   "cell_type": "markdown",
   "metadata": {},
   "source": [
    "---\n",
    "\n",
    "This is a sneak peek of the next lesson, on **outlier identification and removal**. Go back to a setup where you are using the salary to predict the bonus, and rerun the code to remind yourself of what the data look like. You might notice a few data points that fall outside the main trend, someone who gets a high salary (over a million dollars!) but a relatively small bonus. This is an example of an outlier, and we’ll spend lots of time on them in the next lesson\n",
    "\n",
    "A point like this can have a big effect on a regression:\n",
    "\n",
    "- if it falls in the training set, it can have a significant effect on the slope/intercept if it falls in the test set, it can make the score much lower than it would otherwise be\n",
    "\n",
    "As things stand right now, this point falls into the test set (and probably hurting the score on our test data as a result)\n",
    "\n",
    "Let’s add a little hack to see what happens if it falls in the training set instead. Add these two lines near the bottom of finance_regression.py, right before plt.xlabel(features_list[1]):\n",
    "\n",
    "    reg.fit(feature_test, target_test)\n",
    "\n",
    "    plt.plot(feature_train, reg.predict(feature_train), color=\"b\") \n",
    "\n",
    "Now we’ll be drawing two regression lines, one fit on the test data (with outlier) and one fit on the training data (no outlier). Look at the plot now--big difference, huh? That single outlier is driving most of the difference. What’s the slope of the new regression line?\n",
    "\n",
    "(That’s a big difference, and it’s mostly driven by the outliers. The next lesson will dig into outliers in more detail so you have tools to detect and deal with them"
   ]
  },
  {
   "cell_type": "markdown",
   "metadata": {},
   "source": [
    "---\n",
    "\n",
    "*Note: If you are not getting the results expected by the grader, then you may want to check the file tools/feature_format.py. Due to changes in the final project, some file changes have affected the numbers output on this assignment as written. Check that you have the most recent version of the file from the repository, such that the featureFormat has a default parameter for sort_keys = False and that keys = dictionary.keys() results. There should also be a test_list variable that is used to filter missing data*"
   ]
  }
 ],
 "metadata": {
  "kernelspec": {
   "display_name": "Python 2",
   "language": "python",
   "name": "python2"
  },
  "language_info": {
   "codemirror_mode": {
    "name": "ipython",
    "version": 2
   },
   "file_extension": ".py",
   "mimetype": "text/x-python",
   "name": "python",
   "nbconvert_exporter": "python",
   "pygments_lexer": "ipython2",
   "version": "2.7.15"
  }
 },
 "nbformat": 4,
 "nbformat_minor": 2
}
