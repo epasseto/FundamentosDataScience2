{
 "cells": [
  {
   "cell_type": "markdown",
   "metadata": {},
   "source": [
    "## SVM - Support Vector Machine\n",
    "\n",
    "---"
   ]
  },
  {
   "cell_type": "code",
   "execution_count": null,
   "metadata": {},
   "outputs": [],
   "source": [
    "#!/usr/bin/python\n",
    "\n",
    "\"\"\" \n",
    "    This is the code to accompany the Lesson 2 (SVM) mini-project.\n",
    "\n",
    "    Use a SVM to identify emails from the Enron corpus by their authors:    \n",
    "    Sara has label 0\n",
    "    Chris has label 1\n",
    "\"\"\"\n",
    "    \n",
    "import sys\n",
    "from time import time\n",
    "sys.path.append(\"../tools/\")\n",
    "from email_preprocess import preprocess\n",
    "\n",
    "### features_train and features_test are the features for the training\n",
    "### and testing datasets, respectively\n",
    "### labels_train and labels_test are the corresponding item labels\n",
    "features_train, features_test, labels_train, labels_test = preprocess()\n",
    "\n",
    "#########################################################\n",
    "#dados fatiados para deixar mais leve\n",
    "#features_train = features_train[:len(features_train)/100] \n",
    "#labels_train = labels_train[:len(labels_train)/100] \n",
    "### your code goes here ###\n",
    "from sklearn.svm import SVC\n",
    "clf = SVC(C=10000., kernel = 'rbf')\n",
    "t0 = time()\n",
    "clf.fit(features_train,labels_train)\n",
    "print \"Training time:\",round(time()-t0,3),\"s\"\n",
    "\n",
    "t1 = time()\n",
    "pred = clf.predict(features_test)\n",
    "print \"Testing time:\", round(time()-t1,3),\"s\"\n",
    "\n",
    "from sklearn.metrics import accuracy_score\n",
    "accuracy = accuracy_score(pred,labels_test)\n",
    "print(\"Accuracy is equal to %0.4F %%\" % (accuracy*100))\n",
    "#########################################################\n",
    "\n",
    "#########################################################\n",
    "# Who wrote emails at 10,26 & 50 in the predictions\n",
    "\n",
    "answers = [pred[10],pred[26],pred[50]]\n",
    "print answers\n",
    "\n",
    "# How many emails were predicted to be in the Chris class (pred == 1)\n",
    "c_predicted = sum(pred)\n",
    "print \"Number of emails predicted to be from Chris:\", c_predicted"
   ]
  }
 ],
 "metadata": {
  "kernelspec": {
   "display_name": "Python 3",
   "language": "python",
   "name": "python3"
  },
  "language_info": {
   "codemirror_mode": {
    "name": "ipython",
    "version": 3
   },
   "file_extension": ".py",
   "mimetype": "text/x-python",
   "name": "python",
   "nbconvert_exporter": "python",
   "pygments_lexer": "ipython3",
   "version": "3.6.8"
  }
 },
 "nbformat": 4,
 "nbformat_minor": 2
}
