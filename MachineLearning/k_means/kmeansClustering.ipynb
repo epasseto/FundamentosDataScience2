{
 "cells": [
  {
   "cell_type": "markdown",
   "metadata": {},
   "source": [
    "## Mini Project - Clustering\n",
    "\n",
    "---"
   ]
  },
  {
   "cell_type": "code",
   "execution_count": 42,
   "metadata": {},
   "outputs": [],
   "source": [
    "import pickle\n",
    "import numpy as np\n",
    "import matplotlib.pyplot as plt"
   ]
  },
  {
   "cell_type": "code",
   "execution_count": 43,
   "metadata": {},
   "outputs": [],
   "source": [
    "import sys\n",
    "\n",
    "sys.path.append(\"c:/pyprog/udamini/tools/\")\n",
    "from feature_format import featureFormat, targetFeatureSplit"
   ]
  },
  {
   "cell_type": "markdown",
   "metadata": {},
   "source": [
    "Função para desenhar:"
   ]
  },
  {
   "cell_type": "code",
   "execution_count": 44,
   "metadata": {},
   "outputs": [],
   "source": [
    "def Draw(pred, features, poi, mark_poi=False, name=\"image.png\", f1_name=\"feature 1\", f2_name=\"feature 2\"):\n",
    "    ### plot each cluster with a different color--add more colors for drawing more than five clusters\n",
    "    colors = [\"b\", \"c\", \"k\", \"m\", \"g\"]\n",
    "    for ii, pp in enumerate(pred):\n",
    "        plt.scatter(features[ii][0], features[ii][1], color = colors[pred[ii]])\n",
    "\n",
    "    ### if you like, place red stars over points that are POIs (just for funsies)\n",
    "    if mark_poi:\n",
    "        for ii, pp in enumerate(pred):\n",
    "            if poi[ii]:\n",
    "                plt.scatter(features[ii][0], features[ii][1], color=\"r\", marker=\"*\")\n",
    "    plt.xlabel(f1_name)\n",
    "    plt.ylabel(f2_name)\n",
    "    plt.savefig(name)\n",
    "    plt.show()"
   ]
  },
  {
   "cell_type": "markdown",
   "metadata": {},
   "source": [
    "Load in the dict of dicts containing all the data on each person in the dataset"
   ]
  },
  {
   "cell_type": "code",
   "execution_count": 45,
   "metadata": {},
   "outputs": [],
   "source": [
    "data_dict = pickle.load( open(\"c:/pyprog/udamini/final_project/final_project_dataset.pkl\", \"r\") )"
   ]
  },
  {
   "cell_type": "markdown",
   "metadata": {},
   "source": [
    "---\n",
    "\n",
    "There's an outlier--remove it (**Opcional** - pode fazer a experiência de plotar com e sem o outlier!)"
   ]
  },
  {
   "cell_type": "code",
   "execution_count": 53,
   "metadata": {},
   "outputs": [
    {
     "name": "stdout",
     "output_type": "stream",
     "text": [
      "TOTAL eliminado!\n"
     ]
    }
   ],
   "source": [
    "data_dict.pop(\"TOTAL\", 0)\n",
    "print(\"TOTAL eliminado!\")"
   ]
  },
  {
   "cell_type": "markdown",
   "metadata": {},
   "source": [
    "---"
   ]
  },
  {
   "cell_type": "markdown",
   "metadata": {},
   "source": [
    "In the **clustering with 3 features** part of the mini-project, change this line for f1, f2, _ in finance_features\n",
    "\n",
    "- três feições:\n",
    "\n",
    "*não tente! O de três feições não funcionou!*"
   ]
  },
  {
   "cell_type": "code",
   "execution_count": null,
   "metadata": {},
   "outputs": [],
   "source": [
    "for feature_1, feature_2, feature_3, _ in finance_features:\n",
    "    plt.scatter(feature_1, feature_2, feature_3)\n",
    "plt.show()"
   ]
  },
  {
   "cell_type": "markdown",
   "metadata": {},
   "source": [
    "- duas feições:"
   ]
  },
  {
   "cell_type": "code",
   "execution_count": 37,
   "metadata": {},
   "outputs": [
    {
     "data": {
      "image/png": "[encoded data removed]",
      "text/plain": [
       "<Figure size 432x288 with 1 Axes>"
      ]
     },
     "metadata": {
      "needs_background": "light"
     },
     "output_type": "display_data"
    }
   ],
   "source": [
    "for feature_1, feature_2, _ in finance_features:\n",
    "    plt.scatter(feature_1, feature_2)\n",
    "plt.show()"
   ]
  },
  {
   "cell_type": "markdown",
   "metadata": {},
   "source": [
    "Cluster here:\n",
    "\n",
    "- create predictions of the cluster labels for the data and store them to a list called **predm**\n",
    "\n",
    "- deploy k-means clustering on the financial_features data, with 2 clusters specified as a parameter\n",
    "\n",
    "- store your cluster predictions to a list called pred, so that the **Draw()** at the bottom of the script works properly"
   ]
  },
  {
   "cell_type": "markdown",
   "metadata": {},
   "source": [
    "The input features we want to use can be any key in the person-level dictionary (salary, director_fees, etc)\n",
    "\n",
    "- **targetFeatureSplit()** assumes that the label is the _first_ item in feature_list - very important that poi is listed first!"
   ]
  },
  {
   "cell_type": "code",
   "execution_count": null,
   "metadata": {},
   "outputs": [],
   "source": [
    "poi  = \"poi\" #é um vetor Numpy\n",
    "feature_1 = \"salary\"\n",
    "feature_2 = \"exercised_stock_options\"\n",
    "feature_3 = \"total_payments\""
   ]
  },
  {
   "cell_type": "markdown",
   "metadata": {},
   "source": [
    "Duas feições:"
   ]
  },
  {
   "cell_type": "code",
   "execution_count": 46,
   "metadata": {},
   "outputs": [],
   "source": [
    "features_list = [poi, feature_1, feature_2]\n",
    "data = featureFormat(data_dict, features_list )\n",
    "poi, finance_features = targetFeatureSplit( data )"
   ]
  },
  {
   "cell_type": "markdown",
   "metadata": {},
   "source": [
    "Três feições"
   ]
  },
  {
   "cell_type": "code",
   "execution_count": null,
   "metadata": {},
   "outputs": [],
   "source": [
    "features_list = [poi, feature_1, feature_2, feature_3]\n",
    "data = featureFormat(data_dict, features_list) #é uma matriz NumPy\n",
    "poi, finance_features = targetFeatureSplit(data) #são tuplas de 3 elementos (feição1, feição2, feição3)"
   ]
  },
  {
   "cell_type": "markdown",
   "metadata": {},
   "source": [
    "---\n",
    "\n",
    "Código funcionando, versão 1:"
   ]
  },
  {
   "cell_type": "code",
   "execution_count": 54,
   "metadata": {},
   "outputs": [
    {
     "data": {
      "image/png": "[encoded data removed]",
      "text/plain": [
       "<Figure size 432x288 with 1 Axes>"
      ]
     },
     "metadata": {
      "needs_background": "light"
     },
     "output_type": "display_data"
    }
   ],
   "source": [
    "from sklearn.cluster import KMeans\n",
    "\n",
    "features_list = [\"poi\", feature_1, feature_2,feature_3]\n",
    "data2 = featureFormat(data_dict, features_list )\n",
    "poi, finance_features = targetFeatureSplit(data2)\n",
    "\n",
    "clf = KMeans(n_clusters=2)\n",
    "pred = clf.fit_predict( finance_features)\n",
    "\n",
    "Draw(pred, finance_features, poi, name=\"clusters_before_scaling.pdf\", f1_name=feature_1, f2_name=feature_2)"
   ]
  },
  {
   "cell_type": "code",
   "execution_count": 55,
   "metadata": {},
   "outputs": [],
   "source": [
    "from sklearn.cluster import KMeans\n",
    "\n",
    "features_list = [\"poi\", feature_1, feature_2, feature_3]\n",
    "data2 = featureFormat(data_dict, features_list )\n",
    "poi, finance_features = targetFeatureSplit(data2)\n",
    "\n",
    "kmeans_model = KMeans(n_clusters = 2).fit(finance_features)\n",
    "pred = kmeans_model.labels_"
   ]
  },
  {
   "cell_type": "markdown",
   "metadata": {},
   "source": [
    "---\n",
    "\n",
    "Se quiser reescalonar (opcional - e usado **depois**):"
   ]
  },
  {
   "cell_type": "code",
   "execution_count": 56,
   "metadata": {},
   "outputs": [],
   "source": [
    "from sklearn.preprocessing import MinMaxScaler\n",
    "scl = MinMaxScaler()"
   ]
  },
  {
   "cell_type": "code",
   "execution_count": 57,
   "metadata": {},
   "outputs": [
    {
     "data": {
      "image/png": "[encoded data removed]",
      "text/plain": [
       "<Figure size 432x288 with 1 Axes>"
      ]
     },
     "metadata": {
      "needs_background": "light"
     },
     "output_type": "display_data"
    }
   ],
   "source": [
    "Draw(pred, finance_features, poi, name=\"clusters_before_scaling.pdf\", f1_name=feature_1, f2_name=feature_2)"
   ]
  },
  {
   "cell_type": "markdown",
   "metadata": {},
   "source": [
    "---"
   ]
  },
  {
   "cell_type": "code",
   "execution_count": 48,
   "metadata": {},
   "outputs": [
    {
     "name": "stdout",
     "output_type": "stream",
     "text": [
      "[[0.00748945 0.00320755]]\n"
     ]
    }
   ],
   "source": [
    "finance_features = scl.fit_transform(finance_features)\n",
    "import numpy as np\n",
    "features_test = np.array([[200000., 1000000.]])\n",
    "print scl.transform(features_test)"
   ]
  },
  {
   "cell_type": "markdown",
   "metadata": {},
   "source": [
    "Rename the \"name\" parameter when you change the number of features so that the figure gets saved to a different file"
   ]
  },
  {
   "cell_type": "code",
   "execution_count": 58,
   "metadata": {},
   "outputs": [
    {
     "data": {
      "image/png": "[encoded data removed]",
      "text/plain": [
       "<Figure size 432x288 with 1 Axes>"
      ]
     },
     "metadata": {
      "needs_background": "light"
     },
     "output_type": "display_data"
    }
   ],
   "source": [
    "try:\n",
    "    Draw(pred, finance_features, poi, mark_poi=False, name=\"clusters2.pdf\", f1_name=feature_1, f2_name=feature_2)\n",
    "except NameError:\n",
    "    print \"no predictions object named pred found, no clusters to plot\""
   ]
  },
  {
   "cell_type": "markdown",
   "metadata": {},
   "source": [
    "Finding max and min exercised_stock_options"
   ]
  },
  {
   "cell_type": "code",
   "execution_count": 63,
   "metadata": {},
   "outputs": [],
   "source": [
    "maximum = data[:,2].max()"
   ]
  },
  {
   "cell_type": "markdown",
   "metadata": {},
   "source": [
    "Finding nonzero min"
   ]
  },
  {
   "cell_type": "code",
   "execution_count": 64,
   "metadata": {},
   "outputs": [
    {
     "name": "stdout",
     "output_type": "stream",
     "text": [
      "Maximum Exercised Stock Option :  $ 311764000 \n",
      "Minimum Exercised Stock Option :  $ 3285 \n"
     ]
    }
   ],
   "source": [
    "minimum = (data[:,2][np.nonzero(data[:,2])]).min()\n",
    "\n",
    "print (\"Maximum Exercised Stock Option :  $ %0.0F \" % maximum )\n",
    "print (\"Minimum Exercised Stock Option :  $ %0.0F \" % minimum )"
   ]
  },
  {
   "cell_type": "code",
   "execution_count": 65,
   "metadata": {},
   "outputs": [
    {
     "name": "stdout",
     "output_type": "stream",
     "text": [
      "Salário Máximo :  $ 26704229 \n",
      "Salário Mínimo :  $ 477 \n"
     ]
    }
   ],
   "source": [
    "minimum = (data[:,1][np.nonzero(data[:,1])]).min()\n",
    "maximum = data[:,1].max()\n",
    "\n",
    "print (\"Salário Máximo :  $ %0.0F \" % maximum )\n",
    "print (\"Salário Mínimo :  $ %0.0F \" % minimum )"
   ]
  },
  {
   "cell_type": "code",
   "execution_count": 59,
   "metadata": {},
   "outputs": [
    {
     "name": "stdout",
     "output_type": "stream",
     "text": [
      "min: 477\n",
      "max: 1111258\n"
     ]
    }
   ],
   "source": [
    "salMin = 10000000\n",
    "salMax = 0\n",
    "for k in data_dict:\n",
    "    sal = data_dict[k][\"salary\"]\n",
    "    if sal != 'NaN':\n",
    "        if sal < salMin:\n",
    "            salMin = sal\n",
    "        if sal > salMax:\n",
    "            salMax = sal\n",
    "\n",
    "print \"min:\", salMin\n",
    "print \"max:\", salMax "
   ]
  },
  {
   "cell_type": "markdown",
   "metadata": {},
   "source": [
    "---\n",
    "\n",
    "Usado a função de escalonamento **.MinMaxScaler()**\n",
    "\n",
    "*observe que a hora que eu estiver processando centenas, ou milhares de e-mails, existe muita diferença salarial nas companhias. Salários normalmente possuem a casa de centenas, ou talvez poucos milhares de dólares. Agora para os POIs este valor costuma ser 10.000 vezes mais alto! Então escalonar se tonra **essencial** para o meu modelo rodar!*"
   ]
  },
  {
   "cell_type": "markdown",
   "metadata": {},
   "source": [
    "---\n",
    "\n",
    "A python dictionary can’t be read directly into an sklearn **classification** or **regression** algorithm\n",
    "\n",
    "- instead, it needs a numpy array or a list of lists\n",
    "\n",
    " - each element of the list (itself a list) is a data point, and\n",
    " \n",
    " - the elements of the smaller list are the features of that point\n",
    "\n",
    "We’ve written some helper functions in tools/feature_format.py that can\n",
    "\n",
    "- take a list of feature names and the data dictionary\n",
    "\n",
    "- return a numpy array\n",
    "\n",
    " - **featureFormat()**\n",
    "\n",
    " - **targetFeatureSplit()**\n",
    "\n",
    "In the case when a feature does not have a value for a particular person\n",
    "\n",
    " - this function will also **replace** the feature value with 0 (zero)"
   ]
  },
  {
   "cell_type": "code",
   "execution_count": null,
   "metadata": {},
   "outputs": [],
   "source": []
  }
 ],
 "metadata": {
  "kernelspec": {
   "display_name": "Python 2",
   "language": "python",
   "name": "python2"
  },
  "language_info": {
   "codemirror_mode": {
    "name": "ipython",
    "version": 2
   },
   "file_extension": ".py",
   "mimetype": "text/x-python",
   "name": "python",
   "nbconvert_exporter": "python",
   "pygments_lexer": "ipython2",
   "version": "2.7.15"
  }
 },
 "nbformat": 4,
 "nbformat_minor": 2
}
